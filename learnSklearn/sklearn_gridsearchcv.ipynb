{
 "cells": [
  {
   "cell_type": "markdown",
   "metadata": {},
   "source": [
    "[toc]\n",
    "# Sklearn GridSearch"
   ]
  },
  {
   "cell_type": "markdown",
   "metadata": {},
   "source": [
    "\n",
    "## 暴力搜索 GridSearchCV\n",
    "\n",
    "原型\n",
    "\n",
    "```\n",
    "class sklearn.model_selection.GridSearchCV(estimator, param_grid, scoring=None, n_jobs=None, iid='deprecated', refit=True, cv=None, verbose=0, pre_dispatch='2*n_jobs', error_score=nan, return_train_score=False)[source]\n",
    "```\n",
    "\n",
    "参数：\n",
    "\n",
    "- estimator 一个学习器对象\n",
    "- param_grid 字典\n",
    "- scoring : str, callable, list/tuple or dict, default=None \n",
    "    - 一般取 None 就可以: If None, the estimator's score method is used.\n",
    "- cv 交叉验证的折数\n",
    "    - None 使用默认的3折交叉验证\n",
    "\n",
    "属性：\n",
    "\n",
    "- best_params_ 返回最优的参数\n",
    "- best_estimator_ 直接返回最优的学习器对象（注意：这个对象是训练好的。因此可以直接使用，不需要重新训练）\n"
   ]
  },
  {
   "cell_type": "code",
   "execution_count": 1,
   "metadata": {
    "tags": []
   },
   "outputs": [
    {
     "output_type": "stream",
     "name": "stdout",
     "text": "GridSearchCV(cv=5, error_score=nan,\n             estimator=LogisticRegression(C=1.0, class_weight=None, dual=False,\n                                          fit_intercept=True,\n                                          intercept_scaling=1, l1_ratio=None,\n                                          max_iter=100, multi_class='auto',\n                                          n_jobs=None, penalty='l2',\n                                          random_state=None, solver='lbfgs',\n                                          tol=0.0001, verbose=0,\n                                          warm_start=False),\n             iid='deprecated', n_jobs=None,\n             param_grid={'C': [0.01, 0.1, 0.5, 1]}, pre_dispatch='2*n_jobs',\n             refit=True, return_train_score=False, scoring=None, verbose=0)\n{'C': 1}\n"
    },
    {
     "output_type": "execute_result",
     "data": {
      "text/plain": "0.9473684210526315"
     },
     "metadata": {},
     "execution_count": 1
    }
   ],
   "source": [
    "\n",
    "from sklearn.datasets import load_iris\n",
    "from sklearn.model_selection import train_test_split, GridSearchCV\n",
    "from sklearn.linear_model import LogisticRegression\n",
    "\n",
    "iris = load_iris()\n",
    "\n",
    "X_train, X_test, y_train, y_test = train_test_split(iris.data, iris.target)\n",
    "\n",
    "lr = LogisticRegression()\n",
    "tuned_params = {'C': [0.01, 0.1, 0.5, 1, ]}\n",
    "\n",
    "clf = GridSearchCV(lr, tuned_params, cv=5)\n",
    "print(clf.fit(X_train, y_train))\n",
    "\n",
    "print(clf.best_params_)\n",
    "# 使用最优学习器\n",
    "clf.best_estimator_ # 最优学习器"
   ]
  },
  {
   "cell_type": "markdown",
   "metadata": {},
   "source": [
    "预测时是使用最优学习器进行评分和预测的。"
   ]
  },
  {
   "cell_type": "code",
   "execution_count": 3,
   "metadata": {},
   "outputs": [
    {
     "output_type": "execute_result",
     "data": {
      "text/plain": "array([1, 1, 1, 2, 2, 0, 2, 1, 1, 1, 2, 1, 0, 0, 0, 2, 2, 1, 1, 2, 2, 2,\n       1, 2, 2, 2, 0, 0, 2, 0, 0, 2, 0, 2, 0, 2, 1, 1])"
     },
     "metadata": {},
     "execution_count": 3
    }
   ],
   "source": [
    "clf.predict(X_test)  # 相当于 clf.best_estimator_.predict(X_testk)"
   ]
  },
  {
   "cell_type": "markdown",
   "metadata": {},
   "source": [
    "## 自定义评分函数"
   ]
  },
  {
   "cell_type": "markdown",
   "metadata": {},
   "source": [
    "`GridSearchCV` 有一个 scoring 参数，可以指定评分函数。下面我们自定义一个评分函数"
   ]
  },
  {
   "cell_type": "code",
   "execution_count": 11,
   "metadata": {
    "tags": []
   },
   "outputs": [
    {
     "output_type": "execute_result",
     "data": {
      "text/plain": "GridSearchCV(cv=5, error_score=nan,\n             estimator=LogisticRegression(C=1.0, class_weight=None, dual=False,\n                                          fit_intercept=True,\n                                          intercept_scaling=1, l1_ratio=None,\n                                          max_iter=100, multi_class='auto',\n                                          n_jobs=None, penalty='l2',\n                                          random_state=None, solver='lbfgs',\n                                          tol=0.0001, verbose=0,\n                                          warm_start=False),\n             iid='deprecated', n_jobs=None,\n             param_grid={'C': [0.01, 0.1, 0.5, 1]}, pre_dispatch='2*n_jobs',\n             refit=True, return_train_score=False,\n             scoring=make_scorer(mse, greater_is_better=False), verbose=0)"
     },
     "metadata": {},
     "execution_count": 11
    }
   ],
   "source": [
    "\n",
    "from sklearn.datasets import load_iris\n",
    "from sklearn.model_selection import train_test_split, GridSearchCV\n",
    "from sklearn.linear_model import LogisticRegression\n",
    "from sklearn.metrics import make_scorer\n",
    "import numpy as np\n",
    "\n",
    "iris = load_iris()\n",
    "\n",
    "X_train, X_test, y_train, y_test = train_test_split(iris.data, iris.target)\n",
    "\n",
    "lr = LogisticRegression()\n",
    "tuned_params = {'C': [0.01, 0.1, 0.5, 1, ]}\n",
    "\n",
    "def mse(y, yhat):\n",
    "    return np.mean((y-yhat) ** 2)\n",
    "\n",
    "# 自定义的评分函数需要用 make_scorer 包装\n",
    "scorer = make_scorer(mse, greater_is_better=False)\n",
    "\n",
    "clf = GridSearchCV(lr, tuned_params, cv=5, scoring=scorer)\n",
    "clf.fit(X_train, y_train)"
   ]
  }
 ],
 "metadata": {
  "language_info": {
   "codemirror_mode": {
    "name": "ipython",
    "version": 3
   },
   "file_extension": ".py",
   "mimetype": "text/x-python",
   "name": "python",
   "nbconvert_exporter": "python",
   "pygments_lexer": "ipython3",
   "version": 3
  },
  "orig_nbformat": 2,
  "kernelspec": {
   "name": "python_defaultSpec_1594552230093",
   "display_name": "Python 3.6.10 64-bit ('tensorflow2': conda)"
  }
 },
 "nbformat": 4,
 "nbformat_minor": 2
}