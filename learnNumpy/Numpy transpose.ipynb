{
 "cells": [
  {
   "cell_type": "markdown",
   "metadata": {},
   "source": [
    "[toc]\n",
    "\n",
    "# Numpy transpose"
   ]
  },
  {
   "cell_type": "markdown",
   "metadata": {},
   "source": [
    "transpose 函数的效果很简单，但是含义并不太好理解。"
   ]
  },
  {
   "cell_type": "markdown",
   "metadata": {},
   "source": [
    "## [batch_size, seq_len, embedding_size]"
   ]
  },
  {
   "cell_type": "code",
   "execution_count": 28,
   "metadata": {
    "ExecuteTime": {
     "end_time": "2020-12-19T08:40:19.157096Z",
     "start_time": "2020-12-19T08:40:19.152432Z"
    }
   },
   "outputs": [
    {
     "name": "stdout",
     "output_type": "stream",
     "text": [
      "[[[ 0  1  2]\n",
      "  [ 3  4  5]]\n",
      "\n",
      " [[ 6  7  8]\n",
      "  [ 9 10 11]]]\n"
     ]
    }
   ],
   "source": [
    "import numpy as np\n",
    "\n",
    "x = np.arange(12).reshape(2,2,3)\n",
    "print(x)"
   ]
  },
  {
   "cell_type": "markdown",
   "metadata": {},
   "source": [
    "## [seq_len, batch_size, embedding_size]"
   ]
  },
  {
   "cell_type": "code",
   "execution_count": 24,
   "metadata": {
    "ExecuteTime": {
     "end_time": "2020-12-19T08:38:27.355735Z",
     "start_time": "2020-12-19T08:38:27.352516Z"
    }
   },
   "outputs": [
    {
     "name": "stdout",
     "output_type": "stream",
     "text": [
      "[[[ 0  1  2]\n",
      "  [ 6  7  8]]\n",
      "\n",
      " [[ 3  4  5]\n",
      "  [ 9 10 11]]]\n",
      "(2, 2, 3)\n"
     ]
    }
   ],
   "source": [
    "ret1 = x.transpose(1, 0, 2)\n",
    "print(ret1)\n",
    "print(ret1.shape)"
   ]
  },
  {
   "cell_type": "markdown",
   "metadata": {},
   "source": [
    "为了容易理解，我们给每个轴赋予含义。假设我们的三维坐标分别表示 [batchs_size, seq_len, embedding_size]"
   ]
  },
  {
   "cell_type": "markdown",
   "metadata": {},
   "source": [
    "那么 x 可以如此拆分。\n",
    "\n",
    "第0个batch 是\n",
    "\n",
    "```\n",
    "[[ 0  1  2]\n",
    "  [ 6  7  8]]\n",
    "```\n",
    "\n",
    "第1个batch是\n",
    "\n",
    "```\n",
    "[[ 6  7  8]\n",
    "  [ 9 10 11]]\n",
    "```"
   ]
  },
  {
   "cell_type": "markdown",
   "metadata": {},
   "source": [
    "而 ret1 的维度是 [seq_len, batch_size, embedding_size]\n",
    "\n",
    "相当于将所有 batch 的 embedding 都提取出来，作为第一个元素，所有的 batch 的第二个 embedding 都提取出来，作为第二个元素。\n"
   ]
  },
  {
   "cell_type": "markdown",
   "metadata": {},
   "source": [
    "### [embedding_size, batch_size, seq_len]"
   ]
  },
  {
   "cell_type": "code",
   "execution_count": 25,
   "metadata": {
    "ExecuteTime": {
     "end_time": "2020-12-19T08:38:41.717216Z",
     "start_time": "2020-12-19T08:38:41.713515Z"
    }
   },
   "outputs": [
    {
     "name": "stdout",
     "output_type": "stream",
     "text": [
      "[[[ 0  3]\n",
      "  [ 6  9]]\n",
      "\n",
      " [[ 1  4]\n",
      "  [ 7 10]]\n",
      "\n",
      " [[ 2  5]\n",
      "  [ 8 11]]]\n",
      "(3, 2, 2)\n"
     ]
    }
   ],
   "source": [
    "ret2 = x.transpose(2, 0, 1)\n",
    "print(ret2)\n",
    "print(ret2.shape)"
   ]
  },
  {
   "cell_type": "markdown",
   "metadata": {},
   "source": [
    "ret2 的维度是 `[embedding_size, batch_size, seq_len]`，可以看作将所有的 embedding 的第一个维度提取出来，分batch 来放置。\n",
    "\n",
    "第 0 个embedding 的维度上，第 0 个batch 的值为 `[0, 3]`，第 1 个 batch 的值为 `[6,9]`，因此得到了 ret2 的 embedding_size 维度的第 0 个元素（这个元素是一个 2 x 2 的矩阵）\n",
    "\n",
    "```\n",
    "[0, 3]\n",
    "[6, 9]\n",
    "```\n",
    "\n",
    "第 1 个 embedding 的维度上，第 0 个 batch 的值为 `[1, 4]`，第 1 个 batch 的值为 `[7, 10]`，因此得到了 ret2 的 embedding_size 维度的第 1 个元素\n",
    "\n",
    "```\n",
    "[1, 4]\n",
    "[7, 10]\n",
    "```"
   ]
  }
 ],
 "metadata": {
  "hide_input": false,
  "kernelspec": {
   "display_name": "Python 3",
   "language": "python",
   "name": "python3"
  },
  "language_info": {
   "codemirror_mode": {
    "name": "ipython",
    "version": 3
   },
   "file_extension": ".py",
   "mimetype": "text/x-python",
   "name": "python",
   "nbconvert_exporter": "python",
   "pygments_lexer": "ipython3",
   "version": "3.7.3"
  },
  "toc": {
   "base_numbering": 1,
   "nav_menu": {},
   "number_sections": true,
   "sideBar": true,
   "skip_h1_title": false,
   "title_cell": "Table of Contents",
   "title_sidebar": "Contents",
   "toc_cell": false,
   "toc_position": {},
   "toc_section_display": true,
   "toc_window_display": false
  },
  "varInspector": {
   "cols": {
    "lenName": 16,
    "lenType": 16,
    "lenVar": 40
   },
   "kernels_config": {
    "python": {
     "delete_cmd_postfix": "",
     "delete_cmd_prefix": "del ",
     "library": "var_list.py",
     "varRefreshCmd": "print(var_dic_list())"
    },
    "r": {
     "delete_cmd_postfix": ") ",
     "delete_cmd_prefix": "rm(",
     "library": "var_list.r",
     "varRefreshCmd": "cat(var_dic_list()) "
    }
   },
   "types_to_exclude": [
    "module",
    "function",
    "builtin_function_or_method",
    "instance",
    "_Feature"
   ],
   "window_display": false
  }
 },
 "nbformat": 4,
 "nbformat_minor": 4
}
