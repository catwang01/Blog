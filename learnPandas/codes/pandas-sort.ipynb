{
 "cells": [
  {
   "cell_type": "markdown",
   "metadata": {},
   "source": [
    "# Pandas Sort"
   ]
  },
  {
   "cell_type": "markdown",
   "metadata": {},
   "source": [
    "## sort_index()"
   ]
  },
  {
   "cell_type": "code",
   "execution_count": 1,
   "metadata": {
    "ExecuteTime": {
     "end_time": "2020-06-14T02:42:21.241122Z",
     "start_time": "2020-06-14T02:42:20.987246Z"
    }
   },
   "outputs": [],
   "source": [
    "import pandas as pd"
   ]
  },
  {
   "cell_type": "code",
   "execution_count": 2,
   "metadata": {
    "ExecuteTime": {
     "end_time": "2020-06-14T02:42:21.262970Z",
     "start_time": "2020-06-14T02:42:21.243687Z"
    }
   },
   "outputs": [
    {
     "data": {
      "text/html": [
       "<div>\n",
       "<style scoped>\n",
       "    .dataframe tbody tr th:only-of-type {\n",
       "        vertical-align: middle;\n",
       "    }\n",
       "\n",
       "    .dataframe tbody tr th {\n",
       "        vertical-align: top;\n",
       "    }\n",
       "\n",
       "    .dataframe thead th {\n",
       "        text-align: right;\n",
       "    }\n",
       "</style>\n",
       "<table border=\"1\" class=\"dataframe\">\n",
       "  <thead>\n",
       "    <tr style=\"text-align: right;\">\n",
       "      <th></th>\n",
       "      <th>Name</th>\n",
       "      <th>Score</th>\n",
       "      <th>Subject</th>\n",
       "    </tr>\n",
       "  </thead>\n",
       "  <tbody>\n",
       "    <tr>\n",
       "      <th>No2</th>\n",
       "      <td>Zhang San</td>\n",
       "      <td>98</td>\n",
       "      <td>Literature</td>\n",
       "    </tr>\n",
       "    <tr>\n",
       "      <th>No3</th>\n",
       "      <td>Li Si</td>\n",
       "      <td>76</td>\n",
       "      <td>Maths</td>\n",
       "    </tr>\n",
       "    <tr>\n",
       "      <th>No1</th>\n",
       "      <td>Wang Laowu</td>\n",
       "      <td>84</td>\n",
       "      <td>Enlish</td>\n",
       "    </tr>\n",
       "    <tr>\n",
       "      <th>No6</th>\n",
       "      <td>Zhao Liu</td>\n",
       "      <td>76</td>\n",
       "      <td>History</td>\n",
       "    </tr>\n",
       "    <tr>\n",
       "      <th>No5</th>\n",
       "      <td>Qian Qi</td>\n",
       "      <td>93</td>\n",
       "      <td>Physics</td>\n",
       "    </tr>\n",
       "    <tr>\n",
       "      <th>No4</th>\n",
       "      <td>Sun Ba</td>\n",
       "      <td>83</td>\n",
       "      <td>Chemics</td>\n",
       "    </tr>\n",
       "  </tbody>\n",
       "</table>\n",
       "</div>"
      ],
      "text/plain": [
       "           Name  Score     Subject\n",
       "No2   Zhang San     98  Literature\n",
       "No3       Li Si     76       Maths\n",
       "No1  Wang Laowu     84      Enlish\n",
       "No6    Zhao Liu     76     History\n",
       "No5     Qian Qi     93     Physics\n",
       "No4      Sun Ba     83     Chemics"
      ]
     },
     "execution_count": 2,
     "metadata": {},
     "output_type": "execute_result"
    }
   ],
   "source": [
    "dfdata = {\n",
    "    'Score':[98,76,84,76,93,83],\n",
    "    'Subject':['Literature','Maths','Enlish','History','Physics','Chemics'],\n",
    "     'Name':['Zhang San','Li Si','Wang Laowu','Zhao Liu','Qian Qi','Sun Ba'],\n",
    "}\n",
    "scoresheet = pd.DataFrame(dfdata, index=['No2', 'No3', 'No1', 'No6', 'No5', 'No4'])\n",
    "scoresheet"
   ]
  },
  {
   "cell_type": "code",
   "execution_count": 3,
   "metadata": {
    "ExecuteTime": {
     "end_time": "2020-06-14T02:42:21.271841Z",
     "start_time": "2020-06-14T02:42:21.264419Z"
    }
   },
   "outputs": [
    {
     "data": {
      "text/html": [
       "<div>\n",
       "<style scoped>\n",
       "    .dataframe tbody tr th:only-of-type {\n",
       "        vertical-align: middle;\n",
       "    }\n",
       "\n",
       "    .dataframe tbody tr th {\n",
       "        vertical-align: top;\n",
       "    }\n",
       "\n",
       "    .dataframe thead th {\n",
       "        text-align: right;\n",
       "    }\n",
       "</style>\n",
       "<table border=\"1\" class=\"dataframe\">\n",
       "  <thead>\n",
       "    <tr style=\"text-align: right;\">\n",
       "      <th></th>\n",
       "      <th>Name</th>\n",
       "      <th>Score</th>\n",
       "      <th>Subject</th>\n",
       "    </tr>\n",
       "  </thead>\n",
       "  <tbody>\n",
       "    <tr>\n",
       "      <th>No1</th>\n",
       "      <td>Wang Laowu</td>\n",
       "      <td>84</td>\n",
       "      <td>Enlish</td>\n",
       "    </tr>\n",
       "    <tr>\n",
       "      <th>No2</th>\n",
       "      <td>Zhang San</td>\n",
       "      <td>98</td>\n",
       "      <td>Literature</td>\n",
       "    </tr>\n",
       "    <tr>\n",
       "      <th>No3</th>\n",
       "      <td>Li Si</td>\n",
       "      <td>76</td>\n",
       "      <td>Maths</td>\n",
       "    </tr>\n",
       "    <tr>\n",
       "      <th>No4</th>\n",
       "      <td>Sun Ba</td>\n",
       "      <td>83</td>\n",
       "      <td>Chemics</td>\n",
       "    </tr>\n",
       "    <tr>\n",
       "      <th>No5</th>\n",
       "      <td>Qian Qi</td>\n",
       "      <td>93</td>\n",
       "      <td>Physics</td>\n",
       "    </tr>\n",
       "    <tr>\n",
       "      <th>No6</th>\n",
       "      <td>Zhao Liu</td>\n",
       "      <td>76</td>\n",
       "      <td>History</td>\n",
       "    </tr>\n",
       "  </tbody>\n",
       "</table>\n",
       "</div>"
      ],
      "text/plain": [
       "           Name  Score     Subject\n",
       "No1  Wang Laowu     84      Enlish\n",
       "No2   Zhang San     98  Literature\n",
       "No3       Li Si     76       Maths\n",
       "No4      Sun Ba     83     Chemics\n",
       "No5     Qian Qi     93     Physics\n",
       "No6    Zhao Liu     76     History"
      ]
     },
     "execution_count": 3,
     "metadata": {},
     "output_type": "execute_result"
    }
   ],
   "source": [
    "scoresheet.sort_index() # 对行 index 排序"
   ]
  },
  {
   "cell_type": "code",
   "execution_count": 4,
   "metadata": {
    "ExecuteTime": {
     "end_time": "2020-06-14T02:42:21.281497Z",
     "start_time": "2020-06-14T02:42:21.273873Z"
    }
   },
   "outputs": [
    {
     "data": {
      "text/html": [
       "<div>\n",
       "<style scoped>\n",
       "    .dataframe tbody tr th:only-of-type {\n",
       "        vertical-align: middle;\n",
       "    }\n",
       "\n",
       "    .dataframe tbody tr th {\n",
       "        vertical-align: top;\n",
       "    }\n",
       "\n",
       "    .dataframe thead th {\n",
       "        text-align: right;\n",
       "    }\n",
       "</style>\n",
       "<table border=\"1\" class=\"dataframe\">\n",
       "  <thead>\n",
       "    <tr style=\"text-align: right;\">\n",
       "      <th></th>\n",
       "      <th>Subject</th>\n",
       "      <th>Score</th>\n",
       "      <th>Name</th>\n",
       "    </tr>\n",
       "  </thead>\n",
       "  <tbody>\n",
       "    <tr>\n",
       "      <th>No2</th>\n",
       "      <td>Literature</td>\n",
       "      <td>98</td>\n",
       "      <td>Zhang San</td>\n",
       "    </tr>\n",
       "    <tr>\n",
       "      <th>No3</th>\n",
       "      <td>Maths</td>\n",
       "      <td>76</td>\n",
       "      <td>Li Si</td>\n",
       "    </tr>\n",
       "    <tr>\n",
       "      <th>No1</th>\n",
       "      <td>Enlish</td>\n",
       "      <td>84</td>\n",
       "      <td>Wang Laowu</td>\n",
       "    </tr>\n",
       "    <tr>\n",
       "      <th>No6</th>\n",
       "      <td>History</td>\n",
       "      <td>76</td>\n",
       "      <td>Zhao Liu</td>\n",
       "    </tr>\n",
       "    <tr>\n",
       "      <th>No5</th>\n",
       "      <td>Physics</td>\n",
       "      <td>93</td>\n",
       "      <td>Qian Qi</td>\n",
       "    </tr>\n",
       "    <tr>\n",
       "      <th>No4</th>\n",
       "      <td>Chemics</td>\n",
       "      <td>83</td>\n",
       "      <td>Sun Ba</td>\n",
       "    </tr>\n",
       "  </tbody>\n",
       "</table>\n",
       "</div>"
      ],
      "text/plain": [
       "        Subject  Score        Name\n",
       "No2  Literature     98   Zhang San\n",
       "No3       Maths     76       Li Si\n",
       "No1      Enlish     84  Wang Laowu\n",
       "No6     History     76    Zhao Liu\n",
       "No5     Physics     93     Qian Qi\n",
       "No4     Chemics     83      Sun Ba"
      ]
     },
     "execution_count": 4,
     "metadata": {},
     "output_type": "execute_result"
    }
   ],
   "source": [
    "scoresheet.sort_index(axis=1, ascending=False) # 对列 index 排序，即对 columns 排序"
   ]
  },
  {
   "cell_type": "markdown",
   "metadata": {},
   "source": [
    "## sort_values"
   ]
  },
  {
   "cell_type": "markdown",
   "metadata": {
    "ExecuteTime": {
     "end_time": "2020-06-14T02:33:04.903429Z",
     "start_time": "2020-06-14T02:33:04.898401Z"
    }
   },
   "source": [
    "对 index 的情况不多，更多的是需要对 values 进行排序"
   ]
  },
  {
   "cell_type": "code",
   "execution_count": 5,
   "metadata": {
    "ExecuteTime": {
     "end_time": "2020-06-14T02:42:21.290610Z",
     "start_time": "2020-06-14T02:42:21.283363Z"
    }
   },
   "outputs": [
    {
     "data": {
      "text/html": [
       "<div>\n",
       "<style scoped>\n",
       "    .dataframe tbody tr th:only-of-type {\n",
       "        vertical-align: middle;\n",
       "    }\n",
       "\n",
       "    .dataframe tbody tr th {\n",
       "        vertical-align: top;\n",
       "    }\n",
       "\n",
       "    .dataframe thead th {\n",
       "        text-align: right;\n",
       "    }\n",
       "</style>\n",
       "<table border=\"1\" class=\"dataframe\">\n",
       "  <thead>\n",
       "    <tr style=\"text-align: right;\">\n",
       "      <th></th>\n",
       "      <th>Name</th>\n",
       "      <th>Score</th>\n",
       "      <th>Subject</th>\n",
       "    </tr>\n",
       "  </thead>\n",
       "  <tbody>\n",
       "    <tr>\n",
       "      <th>No3</th>\n",
       "      <td>Li Si</td>\n",
       "      <td>76</td>\n",
       "      <td>Maths</td>\n",
       "    </tr>\n",
       "    <tr>\n",
       "      <th>No6</th>\n",
       "      <td>Zhao Liu</td>\n",
       "      <td>76</td>\n",
       "      <td>History</td>\n",
       "    </tr>\n",
       "    <tr>\n",
       "      <th>No4</th>\n",
       "      <td>Sun Ba</td>\n",
       "      <td>83</td>\n",
       "      <td>Chemics</td>\n",
       "    </tr>\n",
       "    <tr>\n",
       "      <th>No1</th>\n",
       "      <td>Wang Laowu</td>\n",
       "      <td>84</td>\n",
       "      <td>Enlish</td>\n",
       "    </tr>\n",
       "    <tr>\n",
       "      <th>No5</th>\n",
       "      <td>Qian Qi</td>\n",
       "      <td>93</td>\n",
       "      <td>Physics</td>\n",
       "    </tr>\n",
       "    <tr>\n",
       "      <th>No2</th>\n",
       "      <td>Zhang San</td>\n",
       "      <td>98</td>\n",
       "      <td>Literature</td>\n",
       "    </tr>\n",
       "  </tbody>\n",
       "</table>\n",
       "</div>"
      ],
      "text/plain": [
       "           Name  Score     Subject\n",
       "No3       Li Si     76       Maths\n",
       "No6    Zhao Liu     76     History\n",
       "No4      Sun Ba     83     Chemics\n",
       "No1  Wang Laowu     84      Enlish\n",
       "No5     Qian Qi     93     Physics\n",
       "No2   Zhang San     98  Literature"
      ]
     },
     "execution_count": 5,
     "metadata": {},
     "output_type": "execute_result"
    }
   ],
   "source": [
    "scoresheet.sort_values(by='Score')"
   ]
  },
  {
   "cell_type": "code",
   "execution_count": 10,
   "metadata": {
    "ExecuteTime": {
     "end_time": "2020-06-14T02:43:54.133630Z",
     "start_time": "2020-06-14T02:43:54.121306Z"
    }
   },
   "outputs": [
    {
     "data": {
      "text/html": [
       "<div>\n",
       "<style scoped>\n",
       "    .dataframe tbody tr th:only-of-type {\n",
       "        vertical-align: middle;\n",
       "    }\n",
       "\n",
       "    .dataframe tbody tr th {\n",
       "        vertical-align: top;\n",
       "    }\n",
       "\n",
       "    .dataframe thead th {\n",
       "        text-align: right;\n",
       "    }\n",
       "</style>\n",
       "<table border=\"1\" class=\"dataframe\">\n",
       "  <thead>\n",
       "    <tr style=\"text-align: right;\">\n",
       "      <th></th>\n",
       "      <th>Name</th>\n",
       "      <th>Score</th>\n",
       "      <th>Subject</th>\n",
       "    </tr>\n",
       "  </thead>\n",
       "  <tbody>\n",
       "    <tr>\n",
       "      <th>No6</th>\n",
       "      <td>Zhao Liu</td>\n",
       "      <td>76</td>\n",
       "      <td>History</td>\n",
       "    </tr>\n",
       "    <tr>\n",
       "      <th>No3</th>\n",
       "      <td>Li Si</td>\n",
       "      <td>76</td>\n",
       "      <td>Maths</td>\n",
       "    </tr>\n",
       "    <tr>\n",
       "      <th>No4</th>\n",
       "      <td>Sun Ba</td>\n",
       "      <td>83</td>\n",
       "      <td>Chemics</td>\n",
       "    </tr>\n",
       "    <tr>\n",
       "      <th>No1</th>\n",
       "      <td>Wang Laowu</td>\n",
       "      <td>84</td>\n",
       "      <td>Enlish</td>\n",
       "    </tr>\n",
       "    <tr>\n",
       "      <th>No5</th>\n",
       "      <td>Qian Qi</td>\n",
       "      <td>93</td>\n",
       "      <td>Physics</td>\n",
       "    </tr>\n",
       "    <tr>\n",
       "      <th>No2</th>\n",
       "      <td>Zhang San</td>\n",
       "      <td>98</td>\n",
       "      <td>Literature</td>\n",
       "    </tr>\n",
       "  </tbody>\n",
       "</table>\n",
       "</div>"
      ],
      "text/plain": [
       "           Name  Score     Subject\n",
       "No6    Zhao Liu     76     History\n",
       "No3       Li Si     76       Maths\n",
       "No4      Sun Ba     83     Chemics\n",
       "No1  Wang Laowu     84      Enlish\n",
       "No5     Qian Qi     93     Physics\n",
       "No2   Zhang San     98  Literature"
      ]
     },
     "execution_count": 10,
     "metadata": {},
     "output_type": "execute_result"
    }
   ],
   "source": [
    "scoresheet.sort_values(by=['Score', 'Subject']) # 指定多个列排序"
   ]
  },
  {
   "cell_type": "markdown",
   "metadata": {},
   "source": [
    "注意：排序时 NaN 会被放在数组的末尾"
   ]
  },
  {
   "cell_type": "markdown",
   "metadata": {},
   "source": [
    "## rank"
   ]
  },
  {
   "cell_type": "code",
   "execution_count": 7,
   "metadata": {
    "ExecuteTime": {
     "end_time": "2020-06-14T02:42:21.306756Z",
     "start_time": "2020-06-14T02:42:21.301672Z"
    }
   },
   "outputs": [
    {
     "data": {
      "text/plain": [
       "0    10\n",
       "1    12\n",
       "2     9\n",
       "3     9\n",
       "4    14\n",
       "5     4\n",
       "6     2\n",
       "7     4\n",
       "8     9\n",
       "9     1\n",
       "dtype: int64"
      ]
     },
     "execution_count": 7,
     "metadata": {},
     "output_type": "execute_result"
    }
   ],
   "source": [
    "rrank = pd.Series([10,12,9,9,14,4,2,4,9,1])\n",
    "rrank"
   ]
  },
  {
   "cell_type": "code",
   "execution_count": 8,
   "metadata": {
    "ExecuteTime": {
     "end_time": "2020-06-14T02:42:21.316081Z",
     "start_time": "2020-06-14T02:42:21.308560Z"
    }
   },
   "outputs": [
    {
     "data": {
      "text/plain": [
       "0     8.0\n",
       "1     9.0\n",
       "2     6.0\n",
       "3     6.0\n",
       "4    10.0\n",
       "5     3.5\n",
       "6     2.0\n",
       "7     3.5\n",
       "8     6.0\n",
       "9     1.0\n",
       "dtype: float64"
      ]
     },
     "execution_count": 8,
     "metadata": {},
     "output_type": "execute_result"
    }
   ],
   "source": [
    "rrank.rank() # 求 rank"
   ]
  },
  {
   "cell_type": "code",
   "execution_count": 9,
   "metadata": {
    "ExecuteTime": {
     "end_time": "2020-06-14T02:42:21.322630Z",
     "start_time": "2020-06-14T02:42:21.318068Z"
    }
   },
   "outputs": [
    {
     "data": {
      "text/plain": [
       "0     3.0\n",
       "1     2.0\n",
       "2     5.0\n",
       "3     5.0\n",
       "4     1.0\n",
       "5     7.5\n",
       "6     9.0\n",
       "7     7.5\n",
       "8     5.0\n",
       "9    10.0\n",
       "dtype: float64"
      ]
     },
     "execution_count": 9,
     "metadata": {},
     "output_type": "execute_result"
    }
   ],
   "source": [
    "rrank.rank(ascending=False) # 指定值越大的rank小"
   ]
  },
  {
   "cell_type": "code",
   "execution_count": 13,
   "metadata": {
    "ExecuteTime": {
     "end_time": "2020-06-14T02:45:36.169806Z",
     "start_time": "2020-06-14T02:45:36.155736Z"
    }
   },
   "outputs": [
    {
     "data": {
      "text/plain": [
       "0     8.0\n",
       "1     9.0\n",
       "2     6.0\n",
       "3     6.0\n",
       "4    10.0\n",
       "5     3.5\n",
       "6     2.0\n",
       "7     3.5\n",
       "8     6.0\n",
       "9     1.0\n",
       "dtype: float64"
      ]
     },
     "execution_count": 13,
     "metadata": {},
     "output_type": "execute_result"
    },
    {
     "data": {
      "text/plain": [
       "0     8.0\n",
       "1     9.0\n",
       "2     5.0\n",
       "3     5.0\n",
       "4    10.0\n",
       "5     3.0\n",
       "6     2.0\n",
       "7     3.0\n",
       "8     5.0\n",
       "9     1.0\n",
       "dtype: float64"
      ]
     },
     "execution_count": 13,
     "metadata": {},
     "output_type": "execute_result"
    },
    {
     "data": {
      "text/plain": [
       "0     8.0\n",
       "1     9.0\n",
       "2     7.0\n",
       "3     7.0\n",
       "4    10.0\n",
       "5     4.0\n",
       "6     2.0\n",
       "7     4.0\n",
       "8     7.0\n",
       "9     1.0\n",
       "dtype: float64"
      ]
     },
     "execution_count": 13,
     "metadata": {},
     "output_type": "execute_result"
    }
   ],
   "source": [
    "# 指定存在 tie 时的处理方法\n",
    "rrank.rank(method='average')\n",
    "rrank.rank(method='min')\n",
    "rrank.rank(method='max') "
   ]
  }
 ],
 "metadata": {
  "kernelspec": {
   "display_name": "Python 3.5.5 64-bit ('pytorch': conda)",
   "language": "python",
   "name": "python35564bitpytorchconda72e94a1a4f294f41ae76e825f8204341"
  },
  "language_info": {
   "codemirror_mode": {
    "name": "ipython",
    "version": 3
   },
   "file_extension": ".py",
   "mimetype": "text/x-python",
   "name": "python",
   "nbconvert_exporter": "python",
   "pygments_lexer": "ipython3",
   "version": "3.5.5"
  },
  "toc": {
   "base_numbering": 1,
   "nav_menu": {},
   "number_sections": true,
   "sideBar": true,
   "skip_h1_title": false,
   "title_cell": "Table of Contents",
   "title_sidebar": "Contents",
   "toc_cell": false,
   "toc_position": {
    "height": "calc(100% - 180px)",
    "left": "10px",
    "top": "150px",
    "width": "194.796875px"
   },
   "toc_section_display": true,
   "toc_window_display": true
  }
 },
 "nbformat": 4,
 "nbformat_minor": 2
}
