{
 "cells": [
  {
   "cell_type": "markdown",
   "metadata": {},
   "source": [
    "[toc]\n",
    "\n",
    "# Pandas h5"
   ]
  },
  {
   "cell_type": "code",
   "execution_count": 1,
   "metadata": {
    "ExecuteTime": {
     "end_time": "2020-09-16T12:09:42.523049Z",
     "start_time": "2020-09-16T12:09:42.009616Z"
    }
   },
   "outputs": [],
   "source": [
    "import pandas as pd\n",
    "\n",
    "import numpy as np"
   ]
  },
  {
   "cell_type": "markdown",
   "metadata": {},
   "source": [
    "在写入的时候支持两种格式 fix 和 table 格式。这个比较重要。\n",
    "\n",
    "format : {'fixed', 'table'}, default 'fixed'\n",
    "    Possible values:\n",
    "\n",
    "    - 'fixed': Fixed format. Fast writing/reading. Not-appendable,\n",
    "      nor searchable.\n",
    "    - 'table': Table format. Write as a PyTables Table structure\n",
    "      which may perform worse but allow more flexible operations\n",
    "      like searching / selecting subsets of the data.\n",
    "\n",
    "个人经验，'table' 格式的性能太差。和 csv 文件也差不多。因此使用 'fixed' 格式会比较好。但是只能整块读写，不能分块读写。"
   ]
  },
  {
   "cell_type": "code",
   "execution_count": 6,
   "metadata": {
    "ExecuteTime": {
     "end_time": "2020-09-16T12:18:37.910125Z",
     "start_time": "2020-09-16T12:18:37.872006Z"
    }
   },
   "outputs": [],
   "source": [
    "df.to_hdf?"
   ]
  },
  {
   "cell_type": "code",
   "execution_count": 4,
   "metadata": {
    "ExecuteTime": {
     "end_time": "2020-09-16T12:10:09.924025Z",
     "start_time": "2020-09-16T12:10:09.920013Z"
    }
   },
   "outputs": [],
   "source": [
    "df = pd.DataFrame(np.random.rand(10, 10))\n",
    "df.to_hdf(\"random.h5\", key=\"data\")"
   ]
  }
 ],
 "metadata": {
  "hide_input": false,
  "kernelspec": {
   "display_name": "Python 3",
   "language": "python",
   "name": "python3"
  },
  "language_info": {
   "codemirror_mode": {
    "name": "ipython",
    "version": 3
   },
   "file_extension": ".py",
   "mimetype": "text/x-python",
   "name": "python",
   "nbconvert_exporter": "python",
   "pygments_lexer": "ipython3",
   "version": "3.7.3"
  },
  "toc": {
   "base_numbering": 1,
   "nav_menu": {},
   "number_sections": true,
   "sideBar": true,
   "skip_h1_title": false,
   "title_cell": "Table of Contents",
   "title_sidebar": "Contents",
   "toc_cell": false,
   "toc_position": {},
   "toc_section_display": true,
   "toc_window_display": false
  },
  "varInspector": {
   "cols": {
    "lenName": 16,
    "lenType": 16,
    "lenVar": 40
   },
   "kernels_config": {
    "python": {
     "delete_cmd_postfix": "",
     "delete_cmd_prefix": "del ",
     "library": "var_list.py",
     "varRefreshCmd": "print(var_dic_list())"
    },
    "r": {
     "delete_cmd_postfix": ") ",
     "delete_cmd_prefix": "rm(",
     "library": "var_list.r",
     "varRefreshCmd": "cat(var_dic_list()) "
    }
   },
   "types_to_exclude": [
    "module",
    "function",
    "builtin_function_or_method",
    "instance",
    "_Feature"
   ],
   "window_display": false
  }
 },
 "nbformat": 4,
 "nbformat_minor": 2
}
