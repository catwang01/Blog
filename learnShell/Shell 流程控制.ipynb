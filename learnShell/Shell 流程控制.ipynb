{
 "cells": [
  {
   "cell_type": "markdown",
   "metadata": {},
   "source": [
    "[toc]"
   ]
  },
  {
   "cell_type": "markdown",
   "metadata": {},
   "source": [
    "# Shell 流程控制\n",
    "\n",
    "不能这么写，如果else分支没有语句执行，就不要写这个else"
   ]
  },
  {
   "cell_type": "markdown",
   "metadata": {},
   "source": [
    "### if"
   ]
  },
  {
   "cell_type": "code",
   "execution_count": 2,
   "metadata": {},
   "outputs": [
    {
     "data": {
      "text/plain": [
       "['/bin/bash: line 1: condition1: command not found',\n",
       " '/bin/bash: line 4: condition2: command not found',\n",
       " '/bin/bash: line 8: commandN: command not found']"
      ]
     },
     "execution_count": 2,
     "metadata": {},
     "output_type": "execute_result"
    }
   ],
   "source": [
    "%%!\n",
    "\n",
    "if condition1; \n",
    "then\n",
    "    command1\n",
    "elif condition2;\n",
    "then\n",
    "    command2\n",
    "else\n",
    "    commandN\n",
    "fi"
   ]
  },
  {
   "cell_type": "code",
   "execution_count": null,
   "metadata": {},
   "outputs": [],
   "source": [
    "%%!\n",
    "\n",
    "#!/usr/bin/env bash\n",
    "\n",
    "a=1\n",
    "b=2\n",
    "if [ $a == $b ]\n",
    "    then\n",
    "        echo \"a 等于 b\"\n",
    " elif [ $a -gt $b ]\n",
    "    then\n",
    "        echo \"a 大于 b\"\n",
    " elif [ $a -lt $b ]\n",
    "    then\n",
    "        echo \"a 小于 b\"\n",
    " else\n",
    "    echo \"没有符合的条件\"\n",
    "\n",
    " fi"
   ]
  },
  {
   "cell_type": "markdown",
   "metadata": {},
   "source": [
    "## for 循环"
   ]
  },
  {
   "cell_type": "markdown",
   "metadata": {},
   "source": [
    "Shell的for循环和Python 有点类似\n",
    "\n",
    "##### Shell的for循环，第一种写法"
   ]
  },
  {
   "cell_type": "code",
   "execution_count": 3,
   "metadata": {},
   "outputs": [
    {
     "data": {
      "text/plain": [
       "['index=1', 'index=2', 'index=3', 'index=4', 'index=5']"
      ]
     },
     "execution_count": 3,
     "metadata": {},
     "output_type": "execute_result"
    }
   ],
   "source": [
    "%%!\n",
    "\n",
    "for index in 1 2 3 4 5; do\n",
    "    echo \"index=\"$index\n",
    "done"
   ]
  },
  {
   "cell_type": "markdown",
   "metadata": {},
   "source": [
    "使用数组的场景"
   ]
  },
  {
   "cell_type": "code",
   "execution_count": 4,
   "metadata": {},
   "outputs": [
    {
     "data": {
      "text/plain": [
       "['index=1', 'index=2', 'index=3', 'index=4', 'index=5']"
      ]
     },
     "execution_count": 4,
     "metadata": {},
     "output_type": "execute_result"
    }
   ],
   "source": [
    "%%!\n",
    "\n",
    "nums=(1 2 3 4 5)\n",
    "for index in ${nums[*]}; do\n",
    "    echo \"index=\"$index\n",
    "done"
   ]
  },
  {
   "cell_type": "markdown",
   "metadata": {},
   "source": [
    "## Shell的for循环，第二种写法"
   ]
  },
  {
   "cell_type": "code",
   "execution_count": 5,
   "metadata": {},
   "outputs": [
    {
     "data": {
      "text/plain": [
       "['i=0', 'i=1', 'i=2', 'i=3', 'i=4']"
      ]
     },
     "execution_count": 5,
     "metadata": {},
     "output_type": "execute_result"
    }
   ],
   "source": [
    "%%!\n",
    "\n",
    "for ((i=0; i<5; i++)); do\n",
    "    echo \"i=\"$i\n",
    "done"
   ]
  },
  {
   "cell_type": "markdown",
   "metadata": {},
   "source": [
    "## while 语句"
   ]
  },
  {
   "cell_type": "markdown",
   "metadata": {},
   "source": [
    "while循环用于不断执行一系列命令，也用于从输入文件中读取数据；命令通常为测试条件。"
   ]
  },
  {
   "cell_type": "code",
   "execution_count": 8,
   "metadata": {},
   "outputs": [
    {
     "data": {
      "text/plain": [
       "[\"/bin/bash: -c: line 0: unexpected EOF while looking for matching `)'\",\n",
       " '/bin/bash: -c: line 3: syntax error: unexpected end of file']"
      ]
     },
     "execution_count": 8,
     "metadata": {},
     "output_type": "execute_result"
    }
   ],
   "source": [
    "%%!\n",
    "\n",
    "int=1\n",
    "while (( $int<=5 ))\n",
    "do\n",
    "    echo $int\n",
    "    let \"int++\"\n",
    "done"
   ]
  },
  {
   "cell_type": "code",
   "execution_count": 9,
   "metadata": {},
   "outputs": [
    {
     "data": {
      "text/plain": [
       "[\"/bin/bash: -c: line 0: unexpected EOF while looking for matching `)'\",\n",
       " '/bin/bash: -c: line 3: syntax error: unexpected end of file']"
      ]
     },
     "execution_count": 9,
     "metadata": {},
     "output_type": "execute_result"
    }
   ],
   "source": [
    "%%!\n",
    "\n",
    "int=1\n",
    "while(( $int<=5 ))\n",
    "do\n",
    "    echo $int\n",
    "    let \"int++\"\n",
    "done"
   ]
  },
  {
   "cell_type": "markdown",
   "metadata": {},
   "source": [
    "# References"
   ]
  }
 ],
 "metadata": {
  "kernelspec": {
   "display_name": "Python 3",
   "language": "python",
   "name": "python3"
  },
  "language_info": {
   "codemirror_mode": {
    "name": "ipython",
    "version": 3
   },
   "file_extension": ".py",
   "mimetype": "text/x-python",
   "name": "python",
   "nbconvert_exporter": "python",
   "pygments_lexer": "ipython3",
   "version": "3.8.5"
  },
  "toc": {
   "base_numbering": 1,
   "nav_menu": {},
   "number_sections": true,
   "sideBar": true,
   "skip_h1_title": false,
   "title_cell": "Table of Contents",
   "title_sidebar": "Contents",
   "toc_cell": false,
   "toc_position": {},
   "toc_section_display": true,
   "toc_window_display": false
  }
 },
 "nbformat": 4,
 "nbformat_minor": 4
}
