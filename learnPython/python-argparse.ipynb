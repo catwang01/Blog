{
 "cells": [
  {
   "cell_type": "markdown",
   "metadata": {},
   "source": [
    "[toc]\n",
    "\n",
    "# Python argparse\n",
    "\n",
    "## 基本使用"
   ]
  },
  {
   "cell_type": "code",
   "execution_count": null,
   "metadata": {},
   "outputs": [],
   "source": [
    "import argparse\n",
    "parser = argparse.ArgumentParser()\n",
    "\n",
    "parser.add_argument('--mode', type=str, default='srgan', help='srgan, evaluate')\n",
    "\n",
    "args = parser.parse_args()\n",
    "print(args.mode)"
   ]
  },
  {
   "cell_type": "markdown",
   "metadata": {},
   "source": [
    "## 使用 bool 变量\n",
    "\n",
    "argparse 不支持直接使用 bool 变量，假如有文件 `python-argparse.py` 中的内容如下"
   ]
  },
  {
   "cell_type": "code",
   "execution_count": null,
   "metadata": {},
   "outputs": [],
   "source": [
    "import argparse\n",
    "\n",
    "parser = argparse.ArgumentParser()\n",
    "parser.add_argument(\"--flag\", type=bool, default=True, help=\"flag\")\n",
    "args = parser.parse_args()\n",
    "print(args.flag)"
   ]
  },
  {
   "cell_type": "markdown",
   "metadata": {},
   "source": [
    "但是使用下面的两个命令，输出均为 `True`"
   ]
  },
  {
   "cell_type": "code",
   "execution_count": null,
   "metadata": {},
   "outputs": [],
   "source": [
    "$ python python-argparse.py --flag True\n",
    "True\n",
    "$ python python-argparse.py --flag False\n",
    "True\n",
    "``` \n",
    "\n",
    "因为 argparse 不支持直接使用 bool 变量。\n",
    "\n",
    "有下面几种方法可以解决\n",
    "\n",
    "### 1. 使用 add_mutually_exclusive_group\n"
   ]
  },
  {
   "cell_type": "markdown",
   "metadata": {},
   "source": [
    "import argparse\n",
    "\n",
    "parser = argparse.ArgumentParser()\n",
    "\n",
    "flag_parser = parser.add_mutually_exclusive_group(required=False)\n",
    "flag_parser.add_argument('--true-flag', dest='flag', action='store_true')\n",
    "flag_parser.add_argument('--false-flag', dest='flag', action='store_false')\n",
    "parser.set_defaults(flag=True)\n",
    "\n",
    "args = parser.parse_args()\n",
    "print(args.flag)"
   ]
  },
  {
   "cell_type": "code",
   "execution_count": null,
   "metadata": {
    "attributes": {
     "classes": [
      "` "
     ],
     "id": ""
    }
   },
   "outputs": [],
   "source": [
    "\n",
    "结果\n"
   ]
  },
  {
   "cell_type": "markdown",
   "metadata": {},
   "source": [
    "$ python python-argparse.py --true-flag\n",
    "True\n",
    "$ python python-argparse.py --false-flag\n",
    "False"
   ]
  },
  {
   "cell_type": "code",
   "execution_count": null,
   "metadata": {},
   "outputs": [],
   "source": [
    "\n",
    "### 2. 使用一个函数进行类型转换\n"
   ]
  },
  {
   "cell_type": "markdown",
   "metadata": {},
   "source": [
    "import argparse\n",
    "\n",
    "parser = argparse.ArgumentParser()\n",
    "\n",
    "def str2bool(v):\n",
    "    if v.lower() in ('yes', 'true', 't', 'y', '1'):\n",
    "        return True\n",
    "    elif v.lower() in ('no', 'false', 'f', 'n', '0'):\n",
    "        return False\n",
    "    else:\n",
    "        raise argparse.ArgumentTypeError('Unsupported value encountered.')\n",
    "\n",
    "parser.add_argument(\n",
    "    '--flag',\n",
    "    type=str2bool,\n",
    "    nargs='?',\n",
    "    const=True,\n",
    "    help='Turn on or turn off flag'\n",
    ")\n",
    "\n",
    "\n",
    "args = parser.parse_args()\n",
    "print(args.flag)"
   ]
  },
  {
   "cell_type": "code",
   "execution_count": null,
   "metadata": {},
   "outputs": [],
   "source": [
    "\n"
   ]
  },
  {
   "cell_type": "markdown",
   "metadata": {},
   "source": [
    "$ python python-argparse.py --flag True\n",
    "True\n",
    "$ python python-argparse.py --flag False\n",
    "False\n",
    "```\n",
    "\n",
    "\n",
    "# References\n",
    "1. [(1条消息)使用Python中的argparse从命令行接收boolean类型的参数_正西风落叶下长安-CSDN博客_python args bool](https://blog.csdn.net/yaokai_assultmaster/article/details/77928629)"
   ]
  }
 ],
 "metadata": {},
 "nbformat": 4,
 "nbformat_minor": 2
}
