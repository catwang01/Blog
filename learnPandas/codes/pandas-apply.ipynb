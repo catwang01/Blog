{
 "cells": [
  {
   "cell_type": "markdown",
   "metadata": {},
   "source": [
    "[toc]\n",
    "\n",
    "# Pandas apply\n",
    "\n",
    "注意， 有 Sereis 有 apply 方法，DataFrame 也有 apply 方法。\n",
    "\n",
    "\n",
    "## 使用多列生成一列\n",
    "\n",
    "参考 [1]\n",
    "\n",
    "有时，需要使用多列来组合生成新的一列。可以使用 axis=1"
   ]
  },
  {
   "cell_type": "code",
   "execution_count": null,
   "metadata": {},
   "outputs": [],
   "source": [
    "df.apply(lambda x: x['col1'] + x['col2'], axis=1)"
   ]
  },
  {
   "cell_type": "markdown",
   "metadata": {},
   "source": [
    "## 一列返回多列\n",
    "\n",
    "两种方式：\n",
    "\n",
    "### 使用 result_type=\"expand\""
   ]
  },
  {
   "cell_type": "code",
   "execution_count": null,
   "metadata": {},
   "outputs": [],
   "source": [
    "df.apply(lambda x: (x+1, x+2), result_type=\"expand\")"
   ]
  },
  {
   "cell_type": "markdown",
   "metadata": {},
   "source": [
    "### 使用 zip"
   ]
  },
  {
   "cell_type": "code",
   "execution_count": null,
   "metadata": {},
   "outputs": [],
   "source": [
    "zip(*df.apply(lambda x: (x+1, x+2)))"
   ]
  },
  {
   "cell_type": "markdown",
   "metadata": {},
   "source": [
    "# References\n",
    "\n",
    "1.  [pandas apply使用多列计算生成新的列_wolf1132的博客-CSDN博客_apply函数 两个字段求和 python2.7](https://blog.csdn.net/wolf1132/article/details/90543863)"
   ]
  }
 ],
 "metadata": {},
 "nbformat": 4,
 "nbformat_minor": 2
}