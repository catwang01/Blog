{
 "cells": [
  {
   "cell_type": "markdown",
   "metadata": {},
   "source": [
    "[toc]\n",
    "\n",
    "# pandas 数据的读取与导出\n",
    "\n",
    "## 导入\n",
    "\n",
    "### 读取文件\n",
    "\n",
    "- TXT文件和CSV的文件的区别是：前者使用\\t作为分隔符，后者使用,作为分隔符。"
   ]
  },
  {
   "cell_type": "code",
   "execution_count": 3,
   "metadata": {
    "ExecuteTime": {
     "end_time": "2020-07-15T12:11:58.717109Z",
     "start_time": "2020-07-15T12:11:58.714597Z"
    }
   },
   "outputs": [],
   "source": [
    "import pandas as pd\n",
    "from io import StringIO"
   ]
  },
  {
   "cell_type": "code",
   "execution_count": null,
   "metadata": {},
   "outputs": [],
   "source": [
    "df = pd.read_csv('test.txt', header=None, sep='\\t')"
   ]
  },
  {
   "cell_type": "markdown",
   "metadata": {},
   "source": [
    "- 比较关键的是 `header` 参数，没有header的话不设置为None就会报错！\n",
    "\n",
    "### 读取前 100 行"
   ]
  },
  {
   "cell_type": "code",
   "execution_count": null,
   "metadata": {},
   "outputs": [],
   "source": [
    "df = pd.read_csv('test.txt', nrow=100)"
   ]
  },
  {
   "cell_type": "markdown",
   "metadata": {},
   "source": [
    "### 指定某行为 header"
   ]
  },
  {
   "cell_type": "code",
   "execution_count": null,
   "metadata": {},
   "outputs": [],
   "source": [
    "# 指定第0行为header\n",
    "df = pd.read_csv('test.csv', header=0)\n",
    "\n",
    "# 指定第1行为header\n",
    "df = pd.read_csv('test.csv', header=1)\n",
    "\n",
    "# 不使用header\n",
    "df = pd.read_csv(\"test.csv\", header=None)"
   ]
  },
  {
   "cell_type": "markdown",
   "metadata": {},
   "source": [
    "### 设置列名\n",
    "\n",
    "使用 names 来进行设置"
   ]
  },
  {
   "cell_type": "code",
   "execution_count": null,
   "metadata": {},
   "outputs": [],
   "source": [
    "df = pd.read_csv('test.csv', header=0, names=['a', 'b', 'c'])"
   ]
  },
  {
   "cell_type": "markdown",
   "metadata": {},
   "source": [
    "也可以在读入之后使用 df.columns 修改列名"
   ]
  },
  {
   "cell_type": "code",
   "execution_count": null,
   "metadata": {},
   "outputs": [],
   "source": [
    "df = pd.read_csv('test.csv', header=0)\n",
    "df.columns = ['a', 'b', 'c']"
   ]
  },
  {
   "cell_type": "markdown",
   "metadata": {},
   "source": [
    "### encoding 指定编码"
   ]
  },
  {
   "cell_type": "code",
   "execution_count": null,
   "metadata": {},
   "outputs": [],
   "source": [
    "pd.read_csv('spam.csv', encoding='latin-1')"
   ]
  },
  {
   "cell_type": "markdown",
   "metadata": {},
   "source": [
    "### 选择部分列"
   ]
  },
  {
   "cell_type": "code",
   "execution_count": null,
   "metadata": {},
   "outputs": [],
   "source": [
    "# 可以直接用列名\n",
    "pd.read_excel('~/Downloads/模拟1数据.xlsx', usecols=['UP_GPS'])\n",
    "\n",
    "# 也可以用序号，也可以交换顺序\n",
    "pd.read_excel('~/Downloads/模拟1数据.xlsx', usecols=[4, 3]) "
   ]
  },
  {
   "cell_type": "markdown",
   "metadata": {},
   "source": [
    "### 指定类型"
   ]
  },
  {
   "cell_type": "code",
   "execution_count": null,
   "metadata": {},
   "outputs": [],
   "source": [
    "data = 'a,b,c\\n1,2,3\\n4,5,6\\n7,8,9'\n",
    "#指定每列数据都为str\n",
    "df = pd.read_csv(StringIO(data), dtype=object)\n",
    "\n",
    "#分列指定\n",
    "df = pd.read_csv(StringIO(data), dtype={'b': object, 'c': np.float64})\n",
    "df.dtypes # a int64, b object, c float64 "
   ]
  },
  {
   "cell_type": "markdown",
   "metadata": {},
   "source": [
    "### 日期解码"
   ]
  },
  {
   "cell_type": "code",
   "execution_count": 34,
   "metadata": {
    "ExecuteTime": {
     "end_time": "2020-07-15T12:16:58.517527Z",
     "start_time": "2020-07-15T12:16:58.503963Z"
    }
   },
   "outputs": [
    {
     "data": {
      "text/plain": [
       "0   2020-04-21\n",
       "1   2020-04-22\n",
       "2   2020-04-23\n",
       "Name: date, dtype: datetime64[ns]"
      ]
     },
     "execution_count": 34,
     "metadata": {},
     "output_type": "execute_result"
    }
   ],
   "source": [
    "data = \"\"\"Id,date,val\n",
    "4,2020-04-21,6\n",
    "5,2020-04-22,6\n",
    "7,2020-04-23,9\n",
    "\"\"\"\n",
    "#指定每列数据都为str\n",
    "df = pd.read_csv(StringIO(data), dtype=object)\n",
    "\n",
    "#分列指定\n",
    "df = pd.read_csv(StringIO(data), parse_dates=[1]) # 1 表示下标为1的列。即第2列\n",
    "df.date"
   ]
  },
  {
   "cell_type": "markdown",
   "metadata": {},
   "source": [
    "## 导出"
   ]
  },
  {
   "cell_type": "code",
   "execution_count": null,
   "metadata": {},
   "outputs": [],
   "source": [
    "df.to_excel('output.xlsx') \n",
    "df.to_csv('output.csv')\n",
    "df.to_csv('output.csv', index=False, header=False)"
   ]
  },
  {
   "cell_type": "markdown",
   "metadata": {},
   "source": [
    "\n",
    "![](https://gitee.com/EdwardElric_1683260718/picture_bed/raw/master/img/20200715201842.png)\n",
    "\n",
    "# References\n",
    "1. [pandas21 读csv文件read_csv（3.dtypes指定列数据类型）（详细 tcy）_Python_tcy-阿春-CSDN博客](https://blog.csdn.net/tcy23456/article/details/85290575)"
   ]
  }
 ],
 "metadata": {
  "hide_input": false,
  "kernelspec": {
   "display_name": "Python 3.6.10 64-bit ('tensorflow2': conda)",
   "language": "python",
   "name": "python361064bittensorflow2conda916f6dc8789a43e39b82205c8a731f83"
  },
  "toc": {
   "base_numbering": 1,
   "nav_menu": {},
   "number_sections": true,
   "sideBar": true,
   "skip_h1_title": false,
   "title_cell": "Table of Contents",
   "title_sidebar": "Contents",
   "toc_cell": false,
   "toc_position": {
    "height": "calc(100% - 180px)",
    "left": "10px",
    "top": "150px",
    "width": "288px"
   },
   "toc_section_display": true,
   "toc_window_display": true
  },
  "varInspector": {
   "cols": {
    "lenName": 16,
    "lenType": 16,
    "lenVar": 40
   },
   "kernels_config": {
    "python": {
     "delete_cmd_postfix": "",
     "delete_cmd_prefix": "del ",
     "library": "var_list.py",
     "varRefreshCmd": "print(var_dic_list())"
    },
    "r": {
     "delete_cmd_postfix": ") ",
     "delete_cmd_prefix": "rm(",
     "library": "var_list.r",
     "varRefreshCmd": "cat(var_dic_list()) "
    }
   },
   "types_to_exclude": [
    "module",
    "function",
    "builtin_function_or_method",
    "instance",
    "_Feature"
   ],
   "window_display": false
  }
 },
 "nbformat": 4,
 "nbformat_minor": 2
}
