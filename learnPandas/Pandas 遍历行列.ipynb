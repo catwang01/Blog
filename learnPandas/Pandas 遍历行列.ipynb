{
 "cells": [
  {
   "cell_type": "markdown",
   "metadata": {},
   "source": [
    "---\n",
    "title: Pandas 遍历行列\n",
    "tags: 小书匠,pandas,iter,iterrows\n",
    "grammar_cjkRuby: true\n",
    "renderNumberedHeading: true\n",
    "---\n",
    "\n",
    "[toc!]\n"
   ]
  },
  {
   "cell_type": "markdown",
   "metadata": {},
   "source": [
    "遍历数据有以下三种方法：\n",
    "\n",
    "*   iterrows(): 按行遍历，将DataFrame的每一行迭代为(index, Series)对，可以通过row\\[name\\]对元素进行访问。\n",
    "*   iteritems():按列遍历，将DataFrame的每一列迭代为(列名, Series)对，可以通过row\\[index\\]对元素进行访问。\n",
    "还有一种按行遍历的方法，但是不太推荐\n",
    "*   itertuples(): 按行遍历，将DataFrame的每一行迭代为元祖，可以通过row\\[name\\]对元素进行访问，比iterrows()效率高。"
   ]
  },
  {
   "cell_type": "code",
   "execution_count": 23,
   "metadata": {
    "ExecuteTime": {
     "end_time": "2021-03-15T07:09:48.017266Z",
     "start_time": "2021-03-15T07:09:47.298372Z"
    }
   },
   "outputs": [
    {
     "name": "stdout",
     "output_type": "stream",
     "text": [
      "   c1   c2\n",
      "0  10  100\n",
      "1  11  110\n",
      "2  12  123\n"
     ]
    }
   ],
   "source": [
    "import pandas as pd\n",
    "\n",
    "inp = [{'c1':10, 'c2':100}, {'c1':11, 'c2':110}, {'c1':12, 'c2':123}]\n",
    "df = pd.DataFrame(inp)\n",
    "\n",
    "print(df)"
   ]
  },
  {
   "cell_type": "markdown",
   "metadata": {},
   "source": [
    "## 按行遍历iterrows()"
   ]
  },
  {
   "cell_type": "markdown",
   "metadata": {},
   "source": [
    "这个返回的 row 是一个 Series 对象"
   ]
  },
  {
   "cell_type": "code",
   "execution_count": 24,
   "metadata": {
    "ExecuteTime": {
     "end_time": "2021-03-15T07:10:31.290530Z",
     "start_time": "2021-03-15T07:10:31.281494Z"
    }
   },
   "outputs": [
    {
     "name": "stdout",
     "output_type": "stream",
     "text": [
      "index:  0\n",
      "row: c1     10\n",
      "c2    100\n",
      "Name: 0, dtype: int64 type: <class 'pandas.core.series.Series'>\n",
      "10 100\n",
      "index:  1\n",
      "row: c1     11\n",
      "c2    110\n",
      "Name: 1, dtype: int64 type: <class 'pandas.core.series.Series'>\n",
      "11 110\n",
      "index:  2\n",
      "row: c1     12\n",
      "c2    123\n",
      "Name: 2, dtype: int64 type: <class 'pandas.core.series.Series'>\n",
      "12 123\n"
     ]
    }
   ],
   "source": [
    "for index, row in df.iterrows():\n",
    "    print(\"index: \", index)\n",
    "    print(\"row: {} type: {}\".format(row, type(row)))\n",
    "    print(row['c1'], row['c2']) "
   ]
  },
  {
   "cell_type": "markdown",
   "metadata": {},
   "source": [
    "## 按行遍历 itertuples()"
   ]
  },
  {
   "cell_type": "markdown",
   "metadata": {},
   "source": [
    "这个返回一个 `pandas.core.frame.Pandas` 这个对象用的比较少"
   ]
  },
  {
   "cell_type": "code",
   "execution_count": 25,
   "metadata": {},
   "outputs": [
    {
     "name": "stdout",
     "output_type": "stream",
     "text": [
      "row: Pandas(Index=0, c1=10, c2=100) type: <class 'pandas.core.frame.Pandas'>\n",
      "10 100\n",
      "row: Pandas(Index=1, c1=11, c2=110) type: <class 'pandas.core.frame.Pandas'>\n",
      "11 110\n",
      "row: Pandas(Index=2, c1=12, c2=123) type: <class 'pandas.core.frame.Pandas'>\n",
      "12 123\n"
     ]
    }
   ],
   "source": [
    "for row in df.itertuples():\n",
    "    print(\"row: {} type: {}\".format(row, type(row)))\n",
    "    print(row.c1, row.c2) # 输出每一行"
   ]
  },
  {
   "cell_type": "markdown",
   "metadata": {},
   "source": [
    "# 按列遍历iteritems():"
   ]
  },
  {
   "cell_type": "code",
   "execution_count": 26,
   "metadata": {},
   "outputs": [
    {
     "name": "stdout",
     "output_type": "stream",
     "text": [
      "c1\n",
      "c2\n"
     ]
    }
   ],
   "source": [
    "for index, row in df.iteritems():\n",
    "    print(index) # 输出列名"
   ]
  },
  {
   "cell_type": "markdown",
   "metadata": {},
   "source": [
    "# References\n",
    "1. [pandas按行按列遍历Dataframe的几种方式_LuckyDucky的博客-CSDN博客_遍历dataframe](https://blog.csdn.net/sinat_29675423/article/details/87972498)"
   ]
  }
 ],
 "metadata": {
  "hide_input": false,
  "kernelspec": {
   "display_name": "Python 3",
   "language": "python",
   "name": "python3"
  },
  "language_info": {
   "codemirror_mode": {
    "name": "ipython",
    "version": 3
   },
   "file_extension": ".py",
   "mimetype": "text/x-python",
   "name": "python",
   "nbconvert_exporter": "python",
   "pygments_lexer": "ipython3",
   "version": "3.7.3"
  },
  "toc": {
   "base_numbering": 1,
   "nav_menu": {},
   "number_sections": true,
   "sideBar": true,
   "skip_h1_title": false,
   "title_cell": "Table of Contents",
   "title_sidebar": "Contents",
   "toc_cell": false,
   "toc_position": {},
   "toc_section_display": true,
   "toc_window_display": false
  },
  "varInspector": {
   "cols": {
    "lenName": 16,
    "lenType": 16,
    "lenVar": 40
   },
   "kernels_config": {
    "python": {
     "delete_cmd_postfix": "",
     "delete_cmd_prefix": "del ",
     "library": "var_list.py",
     "varRefreshCmd": "print(var_dic_list())"
    },
    "r": {
     "delete_cmd_postfix": ") ",
     "delete_cmd_prefix": "rm(",
     "library": "var_list.r",
     "varRefreshCmd": "cat(var_dic_list()) "
    }
   },
   "types_to_exclude": [
    "module",
    "function",
    "builtin_function_or_method",
    "instance",
    "_Feature"
   ],
   "window_display": false
  }
 },
 "nbformat": 4,
 "nbformat_minor": 4
}
