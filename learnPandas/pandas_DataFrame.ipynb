{
 "cells": [
  {
   "cell_type": "markdown",
   "metadata": {},
   "source": [
    "[TOC]\n",
    "\n",
    "# Pandas DataFrame\n",
    "\n",
    "## 索引\n",
    "\n",
    "### 列"
   ]
  },
  {
   "cell_type": "code",
   "execution_count": null,
   "metadata": {},
   "outputs": [],
   "source": [
    "import pandas as pd\n",
    "import numpy as np\n",
    "\n",
    "df = pd.DataFrame({'c1': [1,2,3],\n",
    "                  'c2': [4,5,6],\n",
    "                  'c3': [7,8,9]})\n",
    "df['c3']"
   ]
  },
  {
   "cell_type": "markdown",
   "metadata": {},
   "source": [
    "### 行"
   ]
  },
  {
   "cell_type": "code",
   "execution_count": null,
   "metadata": {},
   "outputs": [],
   "source": [
    "import pandas as pd\n",
    "import numpy as np\n",
    "\n",
    "df = pd.DataFrame(np.arange(9).reshape(3,3), columns=['c1', 'c2', 'c3'],  index=['r1', 'r2', 'r3'])\n",
    "\n",
    "df[0:2] # 取 0、1 行\n",
    "df['r1':'r3'] # 取 'r1' 'r2' 'r3' 行，注意这里包含 'r3'"
   ]
  },
  {
   "cell_type": "markdown",
   "metadata": {},
   "source": [
    "### loc 取行列"
   ]
  },
  {
   "cell_type": "code",
   "execution_count": null,
   "metadata": {},
   "outputs": [],
   "source": [
    "import pandas as pd\n",
    "import numpy as np\n",
    "\n",
    "df = pd.DataFrame(np.arange(9).reshape(3,3), columns=['c1', 'c2', 'c3'],  index=['r1', 'r2', 'r3'])\n",
    "\n",
    "# 取行\n",
    "df.loc[['r1'], :]\n",
    "# 取列\n",
    "df.loc[:, ['c3']]\n",
    "# 取行列\n",
    "df.loc[['r1':'r3'], ['c3']]"
   ]
  },
  {
   "cell_type": "markdown",
   "metadata": {},
   "source": [
    "## reindex"
   ]
  },
  {
   "cell_type": "code",
   "execution_count": null,
   "metadata": {},
   "outputs": [],
   "source": [
    "import pandas as pd\n",
    "import numpy as np\n",
    "\n",
    "df = pd.DataFrame(np.arange(9).reshape(3,3), columns=['c1', 'c2', 'c3'],  index=['r1', 'r2', 'r3'])\n",
    "df\n",
    "df.reindex(['r2', 'r1', 'r4']) # ‘r4' 没有默认填充为 NaN\n",
    "df.reindex(['r2', 'r1', 'r4'], fill_value=1) # 'r4' 填充为 1"
   ]
  },
  {
   "cell_type": "markdown",
   "metadata": {},
   "source": [
    "## 其它\n",
    "\n",
    "## df.dtypes 查看各列数据类型\n",
    "\n",
    "##### dataframe的行名和列名"
   ]
  },
  {
   "cell_type": "code",
   "execution_count": null,
   "metadata": {},
   "outputs": [],
   "source": [
    "df.index 是行名\n",
    "df.columns 是列名"
   ]
  },
  {
   "cell_type": "markdown",
   "metadata": {},
   "source": [
    "##### dataframe 修改列名\n",
    "\n",
    ">问题：\n",
    "有一个DataFrame，列名为：['$a', '$b', '$c', '$d', '$e']\n",
    "现需要改为：['a', 'b', 'c', 'd', 'e']\n",
    "有何办法？"
   ]
  },
  {
   "cell_type": "code",
   "execution_count": null,
   "metadata": {},
   "outputs": [],
   "source": [
    "import pandas as pd\n",
    "df = pd.DataFrame({'$a': [1], '$b': [1], '$c': [1], '$d': [1], '$e': [1]})"
   ]
  },
  {
   "cell_type": "markdown",
   "metadata": {},
   "source": [
    "1. method1 直接替换"
   ]
  },
  {
   "cell_type": "code",
   "execution_count": null,
   "metadata": {},
   "outputs": [],
   "source": [
    "# method1\n",
    "df.columns = [each.strip('$') for each in df.columns]"
   ]
  },
  {
   "cell_type": "markdown",
   "metadata": {},
   "source": [
    "2. method2 使用rename方法\n",
    "\n",
    "如果 inplace=False，会返回修改列名后的df，原始df不变；如果inplace=True，则会返回None，原始df会被修改"
   ]
  },
  {
   "cell_type": "code",
   "execution_count": null,
   "metadata": {},
   "outputs": [],
   "source": [
    "# 传入一个list\n",
    "df.rename(columns=lambda x: x.strip('$'), inplace=True)\n",
    "\n",
    "# 传入一个dict，可以对特定的列改名\n",
    "df.rename(columns={'$a': 'a', '$b': 'b', '$c': 'c', '$d': 'd', '$e': 'e'}, inplace=True) "
   ]
  },
  {
   "cell_type": "markdown",
   "metadata": {},
   "source": [
    "### astype 修改数据类型"
   ]
  },
  {
   "cell_type": "code",
   "execution_count": null,
   "metadata": {},
   "outputs": [],
   "source": [
    "# 记得要赋值！\n",
    "df = df.astype(float)"
   ]
  },
  {
   "cell_type": "markdown",
   "metadata": {},
   "source": [
    "### 添加行、列\n",
    "\n",
    "- **注意直接使用 1 维 array or list 来插会插入列而不是行，需要转化为2维，用[mylist]**\n",
    "- 注意和list的append不同，df.append不会影响df的值，**需要赋值给df**"
   ]
  },
  {
   "cell_type": "code",
   "execution_count": null,
   "metadata": {},
   "outputs": [],
   "source": [
    "newdf = df.append(newrow, ignore_index=True)"
   ]
  },
  {
   "cell_type": "markdown",
   "metadata": {},
   "source": [
    "### DataFrame 遍历行列"
   ]
  },
  {
   "cell_type": "code",
   "execution_count": null,
   "metadata": {},
   "outputs": [],
   "source": [
    "# 遍历列\n",
    "for index, column in df.iteritems():\n",
    "    print(index)    # 列索引\n",
    "    print(column)\n",
    "\n",
    "for index, row in df.iterrows():\n",
    "    print(index)    # 行索引\n",
    "    print(row)"
   ]
  },
  {
   "cell_type": "markdown",
   "metadata": {},
   "source": [
    "##### 关于 nan"
   ]
  },
  {
   "cell_type": "code",
   "execution_count": null,
   "metadata": {},
   "outputs": [],
   "source": [
    "df.isnull()\n",
    "df.dropna()"
   ]
  },
  {
   "cell_type": "markdown",
   "metadata": {},
   "source": [
    "### 引用行、列\n",
    "\n",
    "- pandas 中区别行列的方法\n",
    "    - 要理解dataframe中行表示一个样本，列表示一个变量。\n",
    "        - df.mean() 这个肯定默认是对列进行均值，因为如果对一行求均值的话如何这些变量不是同一个数量级的，那些这种操作没有意义。\n",
    "        - df.plot 这个肯定默认对每一列画一条线，如果对一行画出一条线，那么将不同的变量画在同一条线上没有意义。"
   ]
  },
  {
   "cell_type": "code",
   "execution_count": null,
   "metadata": {},
   "outputs": [],
   "source": [
    "# 引用行\n",
    "df.iloc[1] \n",
    "# 引用列\n",
    "df.iloc[:, 1]"
   ]
  }
 ],
 "metadata": {},
 "nbformat": 4,
 "nbformat_minor": 2
}
