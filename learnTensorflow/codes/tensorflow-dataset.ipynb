{
 "cells": [
  {
   "cell_type": "markdown",
   "metadata": {},
   "source": [
    "[toc]\n",
    "\n",
    "# Tensorflow Dataset"
   ]
  },
  {
   "cell_type": "markdown",
   "metadata": {},
   "source": [
    "## from_generator\n",
    "\n",
    "下面的代码展示如何使用 `from_generator` 来生成成对数据集。对于只有 X 而没有 y 的数据集，只需要进行小修改即可。"
   ]
  },
  {
   "cell_type": "code",
   "execution_count": 18,
   "metadata": {
    "tags": []
   },
   "outputs": [
    {
     "output_type": "stream",
     "name": "stdout",
     "text": "2.2.0\ntf.Tensor(\n[[0.7159482  0.01632522 0.9710122 ]\n [0.5546115  0.4095066  0.02409196]\n [0.57038546 0.7127383  0.614476  ]\n [0.22581846 0.61353964 0.05935152]\n [0.13047504 0.12180927 0.516517  ]], shape=(5, 3), dtype=float32) tf.Tensor([7 9 0 4 9], shape=(5,), dtype=int32)\ntf.Tensor(\n[[0.5625914  0.8467433  0.4747447 ]\n [0.9087953  0.05888489 0.22199295]\n [0.5473792  0.06049135 0.57205695]\n [0.1658871  0.4263989  0.21392025]\n [0.91319466 0.7710725  0.15378755]], shape=(5, 3), dtype=float32) tf.Tensor([4 2 1 1 6], shape=(5,), dtype=int32)\ntf.Tensor(\n[[0.7159482  0.01632522 0.9710122 ]\n [0.5546115  0.4095066  0.02409196]\n [0.57038546 0.7127383  0.614476  ]\n [0.22581846 0.61353964 0.05935152]\n [0.13047504 0.12180927 0.516517  ]], shape=(5, 3), dtype=float32) tf.Tensor([7 9 0 4 9], shape=(5,), dtype=int32)\ntf.Tensor(\n[[0.5625914  0.8467433  0.4747447 ]\n [0.9087953  0.05888489 0.22199295]\n [0.5473792  0.06049135 0.57205695]\n [0.1658871  0.4263989  0.21392025]\n [0.91319466 0.7710725  0.15378755]], shape=(5, 3), dtype=float32) tf.Tensor([4 2 1 1 6], shape=(5,), dtype=int32)\n"
    }
   ],
   "source": [
    "import tensorflow as tf\n",
    "import numpy as np\n",
    "\n",
    "print(tf.__version__) # 2.2.0\n",
    "\n",
    "# 生成数据集\n",
    "x_train = np.random.uniform(0, 1, [10, 3])\n",
    "y_train = np.random.randint(0, 10, [10, ])\n",
    "\n",
    "# 定义生成器\n",
    "def batch_generator():\n",
    "    n_samples = x_train.shape[0]\n",
    "    for i in range(n_samples):\n",
    "        yield x_train[i], y_train[i]\n",
    "\n",
    "# 使用 生成器\n",
    "train_dataset = tf.data.Dataset.from_generator(batch_generator, (tf.float32, tf.int32))\n",
    "\n",
    "# 设置epoch为2\n",
    "train_dataset = train_dataset.repeat(2)\n",
    "# 这里生成的 dataset 还没有分 batch，使用 .batch() 设置batch_size为 5\n",
    "train_dataset = train_dataset.batch(5)\n",
    "for x, y in train_dataset:\n",
    "    print(x, y)"
   ]
  },
  {
   "cell_type": "markdown",
   "metadata": {},
   "source": [
    "其中有一个坑。 generator 函数返回的应该是一个 tuple 对象，而不是一个 list 对象。\n",
    "\n",
    "如果将上面的 `batch_generator` 修改成下面的样子，则会报错 `TypeError: `generator` yielded an element that did not match the expected structure. The expected structure was (tf.float32, tf.int32), but the yielded element was [array([0.71891118, 0.55713524, 0.83305131]), 2].`"
   ]
  },
  {
   "cell_type": "code",
   "execution_count": null,
   "metadata": {},
   "outputs": [],
   "source": [
    "# 定义生成器\n",
    "def batch_generator():\n",
    "    n_samples = x_train.shape[0]\n",
    "    for i in range(n_samples):\n",
    "        yield [x_train[i], y_train[i]]"
   ]
  },
  {
   "cell_type": "markdown",
   "metadata": {},
   "source": [
    "## from_tensor_slices"
   ]
  },
  {
   "cell_type": "code",
   "execution_count": 17,
   "metadata": {
    "tags": []
   },
   "outputs": [
    {
     "output_type": "stream",
     "name": "stdout",
     "text": "2.2.0\ntf.Tensor(\n[[0.63026611 0.84018849 0.96822053]\n [0.00950266 0.82345767 0.14237034]\n [0.3628959  0.36985282 0.76039462]\n [0.60812065 0.30927249 0.17130571]\n [0.27561707 0.12677321 0.7169283 ]], shape=(5, 3), dtype=float64) tf.Tensor([6 7 0 5 8], shape=(5,), dtype=int64)\ntf.Tensor(\n[[0.32115764 0.44327448 0.6138822 ]\n [0.71774647 0.05496469 0.48456999]\n [0.00653992 0.61188734 0.01731185]\n [0.9451552  0.08030777 0.47051986]\n [0.06737426 0.55813358 0.97273234]], shape=(5, 3), dtype=float64) tf.Tensor([7 3 7 1 5], shape=(5,), dtype=int64)\ntf.Tensor(\n[[0.63026611 0.84018849 0.96822053]\n [0.00950266 0.82345767 0.14237034]\n [0.3628959  0.36985282 0.76039462]\n [0.60812065 0.30927249 0.17130571]\n [0.27561707 0.12677321 0.7169283 ]], shape=(5, 3), dtype=float64) tf.Tensor([6 7 0 5 8], shape=(5,), dtype=int64)\ntf.Tensor(\n[[0.32115764 0.44327448 0.6138822 ]\n [0.71774647 0.05496469 0.48456999]\n [0.00653992 0.61188734 0.01731185]\n [0.9451552  0.08030777 0.47051986]\n [0.06737426 0.55813358 0.97273234]], shape=(5, 3), dtype=float64) tf.Tensor([7 3 7 1 5], shape=(5,), dtype=int64)\n"
    }
   ],
   "source": [
    "\n",
    "import tensorflow as tf\n",
    "import numpy as np\n",
    "\n",
    "print(tf.__version__) # 2.2.0\n",
    "\n",
    "# 生成数据集\n",
    "x_train = np.random.uniform(0, 1, [10, 3])\n",
    "y_train = np.random.randint(0, 10, [10, ])\n",
    "\n",
    "\n",
    "# 使用 生成器\n",
    "train_dataset = tf.data.Dataset.from_tensor_slices((x_train, y_train))\n",
    "\n",
    "# 设置epoch为2，设置batch_size为 5\n",
    "train_dataset = train_dataset.repeat(2).batch(5)\n",
    "for x, y in train_dataset:\n",
    "    print(x, y)"
   ]
  },
  {
   "cell_type": "markdown",
   "metadata": {},
   "source": [
    "# References\n",
    "1. [(1条消息)tf.dataset 使用 python generator 加载和预处理数据，dataset.map 对数据进行额外加工_ONE_SIX_MIX的专栏-CSDN博客_dataset.map](https://blog.csdn.net/ONE_SIX_MIX/article/details/80633187)"
   ]
  }
 ],
 "metadata": {
  "language_info": {
   "codemirror_mode": {
    "name": "ipython",
    "version": 3
   },
   "file_extension": ".py",
   "mimetype": "text/x-python",
   "name": "python",
   "nbconvert_exporter": "python",
   "pygments_lexer": "ipython3",
   "version": "3.7.6-final"
  },
  "orig_nbformat": 2,
  "kernelspec": {
   "name": "python37664bitsrgancondad40efa82395a4251b23b581f920438c6",
   "display_name": "Python 3.7.6 64-bit ('srgan': conda)"
  }
 },
 "nbformat": 4,
 "nbformat_minor": 2
}