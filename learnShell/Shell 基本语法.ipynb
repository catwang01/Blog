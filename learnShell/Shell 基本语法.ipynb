{
 "cells": [
  {
   "cell_type": "markdown",
   "metadata": {},
   "source": [
    "[toc]\n",
    "\n",
    "# Shell 基本语法"
   ]
  },
  {
   "cell_type": "markdown",
   "metadata": {},
   "source": [
    "下面使用 jupyter notebook 的多行 shell 功能来交互式都运行 shell 命令。在一个 cell 开头输入 `%%!`，这个 shell 就可以运行多行 shell 命令"
   ]
  },
  {
   "cell_type": "markdown",
   "metadata": {},
   "source": [
    "### 变量\n",
    "\n",
    "定义变量时，变量名前不需要加符号"
   ]
  },
  {
   "cell_type": "code",
   "execution_count": 1,
   "metadata": {},
   "outputs": [
    {
     "data": {
      "text/plain": [
       "[]"
      ]
     },
     "execution_count": 1,
     "metadata": {},
     "output_type": "execute_result"
    }
   ],
   "source": [
    "%%!\n",
    "\n",
    "my_name=\"jack\"\n",
    "my_name='jack'"
   ]
  },
  {
   "cell_type": "markdown",
   "metadata": {},
   "source": [
    "ps: **变量名和等号之间不能有空格**，如果有空格，会将这句当作命令运行."
   ]
  },
  {
   "cell_type": "code",
   "execution_count": 2,
   "metadata": {},
   "outputs": [
    {
     "data": {
      "text/plain": [
       "['/bin/bash: line 1: my_name: command not found']"
      ]
     },
     "execution_count": 2,
     "metadata": {},
     "output_type": "execute_result"
    }
   ],
   "source": [
    "%%!\n",
    "\n",
    "my_name = \"jack\""
   ]
  },
  {
   "cell_type": "markdown",
   "metadata": {},
   "source": [
    "从上面的报错信息中可以看出，shell 将 my_name 当作一个命令运行了。"
   ]
  },
  {
   "cell_type": "markdown",
   "metadata": {},
   "source": [
    "字符串可以用单引号，也可以用双引号\n",
    "\n",
    "单引号字符串的限制：\n",
    "\n",
    "*   单引号里的任何字符都会原样输出，单引号字符串中的变量是无效的\n",
    "*   单引号字串中不能出现单引号（对单引号使用转义符后也不行\n",
    "\n",
    "双引号：\n",
    "\n",
    "*   双引号里可以有变量\n",
    "*   双引号里可以出现转义字符\n",
    "\n",
    "但是在Python中单引号和双引号是没有区别，但是Python 还有三个引号，在三个引号内字符都不会被转义\n",
    "\n",
    "### 使用变量\n",
    "\n",
    "对于已经定义过的变量，使用的适合在前面添加$"
   ]
  },
  {
   "cell_type": "code",
   "execution_count": 3,
   "metadata": {},
   "outputs": [
    {
     "data": {
      "text/plain": [
       "['', '']"
      ]
     },
     "execution_count": 3,
     "metadata": {},
     "output_type": "execute_result"
    }
   ],
   "source": [
    "%%!\n",
    "\n",
    "echo $my_name\n",
    "echo ${my_name}"
   ]
  },
  {
   "cell_type": "markdown",
   "metadata": {},
   "source": [
    "变量名外面的花括号是可选的，加不加都行,建议使用第二种形式"
   ]
  },
  {
   "cell_type": "markdown",
   "metadata": {},
   "source": [
    "### shebang"
   ]
  },
  {
   "cell_type": "markdown",
   "metadata": {},
   "source": [
    "新建一个文件，扩展名为sh（sh代表shell），扩展名并不影响脚本执行，见名知意就好，如果你用php，扩展名为php，如果你用Python，扩展名为python\n",
    "\n",
    "第一行一般是这样：\n",
    "\n",
    "```\n",
    "#!/usr/bin/php\n",
    "#!/usr/bin/env python3\n",
    "#!/usr/bin/env bash\n",
    "```\n",
    "\n",
    "#!”是一个约定的标记，它告诉系统这个脚本需要什么解释器来执行 /env 是系统的PATH目录中查找"
   ]
  },
  {
   "cell_type": "markdown",
   "metadata": {},
   "source": [
    "### 默认值"
   ]
  },
  {
   "cell_type": "markdown",
   "metadata": {},
   "source": [
    "我们希望如果变量没有定义，那么就给他一个默认值，如果定义了，就直接使用定义过的值，可以想下面这样写"
   ]
  },
  {
   "cell_type": "code",
   "execution_count": 5,
   "metadata": {},
   "outputs": [
    {
     "data": {
      "text/plain": [
       "['edward']"
      ]
     },
     "execution_count": 5,
     "metadata": {},
     "output_type": "execute_result"
    }
   ],
   "source": [
    "%%!\n",
    "\n",
    "name=${name:-edward}\n",
    "echo $name"
   ]
  },
  {
   "cell_type": "code",
   "execution_count": 6,
   "metadata": {},
   "outputs": [
    {
     "data": {
      "text/plain": [
       "['yuki']"
      ]
     },
     "execution_count": 6,
     "metadata": {},
     "output_type": "execute_result"
    }
   ],
   "source": [
    "%%!\n",
    "\n",
    "name=\"yuki\"\n",
    "name=${name:-edward}\n",
    "echo $name"
   ]
  },
  {
   "cell_type": "markdown",
   "metadata": {},
   "source": [
    "### set -u 防止未定义"
   ]
  },
  {
   "cell_type": "markdown",
   "metadata": {},
   "source": [
    "shell 默认不检查变量是否定义。如果引用了没有定义的变量，那么这个变量的值为空。这样可能会造成很多问题，并且难以发现。"
   ]
  },
  {
   "cell_type": "markdown",
   "metadata": {},
   "source": [
    "如使用 `rm -rf $delete_dir`，如果 `$delete_dir` 没有定义，那么会运行 `rm -rf`"
   ]
  },
  {
   "cell_type": "markdown",
   "metadata": {},
   "source": [
    "为了防止变量未定义的情况，可以使用 `set -u` 来让变量未定义时报错"
   ]
  },
  {
   "cell_type": "code",
   "execution_count": 7,
   "metadata": {},
   "outputs": [
    {
     "data": {
      "text/plain": [
       "['']"
      ]
     },
     "execution_count": 7,
     "metadata": {},
     "output_type": "execute_result"
    }
   ],
   "source": [
    "%%!\n",
    "\n",
    "echo $name"
   ]
  },
  {
   "cell_type": "code",
   "execution_count": 8,
   "metadata": {},
   "outputs": [
    {
     "data": {
      "text/plain": [
       "['/bin/bash: line 2: name: unbound variable']"
      ]
     },
     "execution_count": 8,
     "metadata": {},
     "output_type": "execute_result"
    }
   ],
   "source": [
    "%%!\n",
    "\n",
    "set -u\n",
    "echo $name # name 没有定义，报错"
   ]
  },
  {
   "cell_type": "markdown",
   "metadata": {},
   "source": [
    "### 运行 Shell 脚本有两种方法：\n",
    "\n",
    "#### 作为可执行程序\n",
    "\n",
    "```\n",
    "chmod +x op_base.sh\n",
    "./op_base.sh\n",
    "```\n",
    "\n",
    "第一行设置 op_base.sh可执行权限 第二行执行o\\_base.sh\n",
    "\n",
    "#### 作为参数\n",
    "\n",
    "```\n",
    "/bin/bash op_base.sh\n",
    "```"
   ]
  },
  {
   "cell_type": "markdown",
   "metadata": {},
   "source": [
    "### 注释\n",
    "\n",
    "以“#”开头的行就是注释，会被解释器忽略。\n",
    "\n",
    "#### 多行注释\n",
    "\n",
    "sh里没有多行注释，只能每一行加一个#号。"
   ]
  },
  {
   "cell_type": "markdown",
   "metadata": {},
   "source": [
    "# References\n",
    "[Jupyter魔法操作符 | Notebook Share](https://supergis.gitbooks.io/git_notebook/content/doc/jupyter_magics.html)\n",
    "\n",
    "[Shell script: 如果变量没定义 - 简书](https://www.jianshu.com/p/3c375b5a6b5b)"
   ]
  }
 ],
 "metadata": {
  "kernelspec": {
   "display_name": "Python 3",
   "language": "python",
   "name": "python3"
  },
  "language_info": {
   "codemirror_mode": {
    "name": "ipython",
    "version": 3
   },
   "file_extension": ".py",
   "mimetype": "text/x-python",
   "name": "python",
   "nbconvert_exporter": "python",
   "pygments_lexer": "ipython3",
   "version": "3.8.5"
  },
  "toc": {
   "base_numbering": 1,
   "nav_menu": {},
   "number_sections": true,
   "sideBar": true,
   "skip_h1_title": false,
   "title_cell": "Table of Contents",
   "title_sidebar": "Contents",
   "toc_cell": false,
   "toc_position": {
    "height": "calc(100% - 180px)",
    "left": "10px",
    "top": "150px",
    "width": "288px"
   },
   "toc_section_display": true,
   "toc_window_display": true
  }
 },
 "nbformat": 4,
 "nbformat_minor": 4
}
