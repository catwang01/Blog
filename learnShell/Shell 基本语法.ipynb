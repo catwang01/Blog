{
 "cells": [
  {
   "cell_type": "markdown",
   "metadata": {},
   "source": [
    "[toc]\n",
    "\n",
    "# Shell 基本语法"
   ]
  },
  {
   "cell_type": "markdown",
   "metadata": {},
   "source": [
    "下面使用 jupyter notebook 的多行 shell 功能来交互式都运行 shell 命令。在一个 cell 开头输入 `%%!`，这个 shell 就可以运行多行 shell 命令"
   ]
  },
  {
   "cell_type": "markdown",
   "metadata": {},
   "source": [
    "### 变量\n",
    "\n",
    "定义变量时，变量名前不需要加符号"
   ]
  },
  {
   "cell_type": "code",
   "execution_count": 19,
   "metadata": {},
   "outputs": [
    {
     "data": {
      "text/plain": [
       "[]"
      ]
     },
     "execution_count": 19,
     "metadata": {},
     "output_type": "execute_result"
    }
   ],
   "source": [
    "%%!\n",
    "\n",
    "my_name=\"jack\"\n",
    "my_name='jack'"
   ]
  },
  {
   "cell_type": "markdown",
   "metadata": {},
   "source": [
    "ps: **变量名和等号之间不能有空格**，如果有空格，会将这句当作命令运行."
   ]
  },
  {
   "cell_type": "code",
   "execution_count": 24,
   "metadata": {},
   "outputs": [
    {
     "data": {
      "text/plain": [
       "['/bin/bash: line 1: my_name: command not found']"
      ]
     },
     "execution_count": 24,
     "metadata": {},
     "output_type": "execute_result"
    }
   ],
   "source": [
    "%%!\n",
    "\n",
    "my_name = \"jack\""
   ]
  },
  {
   "cell_type": "markdown",
   "metadata": {},
   "source": [
    "从上面的报错信息中可以看出，shell 将 my_name 当作一个命令运行了。"
   ]
  },
  {
   "cell_type": "markdown",
   "metadata": {},
   "source": [
    "字符串可以用单引号，也可以用双引号\n",
    "\n",
    "单引号字符串的限制：\n",
    "\n",
    "*   单引号里的任何字符都会原样输出，单引号字符串中的变量是无效的\n",
    "*   单引号字串中不能出现单引号（对单引号使用转义符后也不行\n",
    "\n",
    "双引号：\n",
    "\n",
    "*   双引号里可以有变量\n",
    "*   双引号里可以出现转义字符\n",
    "\n",
    "但是在Python中单引号和双引号是没有区别，但是Python 还有三个引号，在三个引号内字符都不会被转义\n",
    "\n",
    "### 使用变量\n",
    "\n",
    "对于已经定义过的变量，使用的适合在前面添加$"
   ]
  },
  {
   "cell_type": "code",
   "execution_count": 23,
   "metadata": {},
   "outputs": [
    {
     "data": {
      "text/plain": [
       "['jack', '']"
      ]
     },
     "execution_count": 23,
     "metadata": {},
     "output_type": "execute_result"
    }
   ],
   "source": [
    "%%!\n",
    "\n",
    "echo $my_name\n",
    "echo ${my_name}"
   ]
  },
  {
   "cell_type": "markdown",
   "metadata": {},
   "source": [
    "变量名外面的花括号是可选的，加不加都行,建议使用第二种形式"
   ]
  },
  {
   "cell_type": "code",
   "execution_count": null,
   "metadata": {},
   "outputs": [],
   "source": []
  },
  {
   "cell_type": "markdown",
   "metadata": {},
   "source": [
    "新建一个文件，扩展名为sh（sh代表shell），扩展名并不影响脚本执行，见名知意就好，如果你用php，扩展名为php，如果你用Python，扩展名为python\n",
    "\n",
    "第一行一般是这样：\n",
    "\n",
    "```\n",
    "#!/usr/bin/php\n",
    "#!/usr/bin/env python3\n",
    "#!/usr/bin/env bash\n",
    "复制代码\n",
    "```\n",
    "\n",
    "#!”是一个约定的标记，它告诉系统这个脚本需要什么解释器来执行 /env 是系统的PATH目录中查找"
   ]
  },
  {
   "cell_type": "markdown",
   "metadata": {},
   "source": [
    "### 默认值"
   ]
  },
  {
   "cell_type": "markdown",
   "metadata": {},
   "source": [
    "我们希望如果变量没有定义，那么就给他一个默认值，如果定义了，就直接使用定义过的值，可以想下面这样写"
   ]
  },
  {
   "cell_type": "code",
   "execution_count": 64,
   "metadata": {},
   "outputs": [
    {
     "data": {
      "text/plain": [
       "['edward']"
      ]
     },
     "execution_count": 64,
     "metadata": {},
     "output_type": "execute_result"
    }
   ],
   "source": [
    "%%!\n",
    "\n",
    "name=${name:-edward}\n",
    "echo $name"
   ]
  },
  {
   "cell_type": "code",
   "execution_count": 65,
   "metadata": {},
   "outputs": [
    {
     "data": {
      "text/plain": [
       "['yuki']"
      ]
     },
     "execution_count": 65,
     "metadata": {},
     "output_type": "execute_result"
    }
   ],
   "source": [
    "%%!\n",
    "\n",
    "name=\"yuki\"\n",
    "name=${name:-edward}\n",
    "echo $name"
   ]
  },
  {
   "cell_type": "code",
   "execution_count": null,
   "metadata": {},
   "outputs": [],
   "source": []
  },
  {
   "cell_type": "code",
   "execution_count": null,
   "metadata": {},
   "outputs": [],
   "source": []
  },
  {
   "cell_type": "markdown",
   "metadata": {},
   "source": [
    "### 防止未定义"
   ]
  },
  {
   "cell_type": "markdown",
   "metadata": {},
   "source": [
    "shell 默认不检查变量是否定义。如果引用了没有定义的变量，那么这个变量的值为空。这样可能会造成很多问题，并且难以发现。"
   ]
  },
  {
   "cell_type": "markdown",
   "metadata": {},
   "source": [
    "如使用 `rm -rf $delete_dir`，如果 `$delete_dir` 没有定义，那么会运行 `rm -rf`"
   ]
  },
  {
   "cell_type": "markdown",
   "metadata": {},
   "source": [
    "为了防止变量未定义的情况，可以使用 `set -u` 来让变量未定义时报错"
   ]
  },
  {
   "cell_type": "code",
   "execution_count": 68,
   "metadata": {},
   "outputs": [
    {
     "data": {
      "text/plain": [
       "['']"
      ]
     },
     "execution_count": 68,
     "metadata": {},
     "output_type": "execute_result"
    }
   ],
   "source": [
    "%%!\n",
    "\n",
    "echo $name"
   ]
  },
  {
   "cell_type": "code",
   "execution_count": 69,
   "metadata": {},
   "outputs": [
    {
     "data": {
      "text/plain": [
       "['/bin/bash: line 2: name: unbound variable']"
      ]
     },
     "execution_count": 69,
     "metadata": {},
     "output_type": "execute_result"
    }
   ],
   "source": [
    "%%!\n",
    "\n",
    "set -u\n",
    "echo $name # name 没有定义，报错"
   ]
  },
  {
   "cell_type": "code",
   "execution_count": null,
   "metadata": {},
   "outputs": [],
   "source": []
  },
  {
   "cell_type": "markdown",
   "metadata": {},
   "source": [
    "### 运行 Shell 脚本有两种方法：\n",
    "\n",
    "#### 作为可执行程序\n",
    "\n",
    "```\n",
    "chmod +x op_base.sh\n",
    "./op_base.sh\n",
    "复制代码\n",
    "```\n",
    "\n",
    "第一行设置 op\\_base.sh可执行权限 第二行执行op\\_base.sh\n",
    "\n",
    "#### 作为参数\n",
    "\n",
    "```\n",
    "/bin/sh op_base.sh\n",
    "复制代码\n",
    "```"
   ]
  },
  {
   "cell_type": "markdown",
   "metadata": {},
   "source": [
    "### 注释\n",
    "\n",
    "以“#”开头的行就是注释，会被解释器忽略。\n",
    "\n",
    "#### 多行注释\n",
    "\n",
    "sh里没有多行注释，只能每一行加一个#号。"
   ]
  },
  {
   "cell_type": "markdown",
   "metadata": {},
   "source": [
    "### 字符串\n",
    "\n",
    "字符串可以用单引号，也可以用双引号，也可以不用引号。单双引号的区别跟PHP类似\n",
    "\n",
    "Shell不像其他语言有php、python 有很多数据类型，在Shell中常用的数据类型字符串数字和字符串（ps: 除了数字和字符串，也没啥其它类型好用了，哈哈）\n",
    "\n",
    "单引号字符串的限制：\n",
    "\n",
    "*   单引号里的任何字符都会原样输出，单引号字符串中的变量是无效的\n",
    "*   单引号字串中不能出现单引号（对单引号使用转义符后也不行\n",
    "\n",
    "双引号：\n",
    "\n",
    "*   双引号里可以有变量\n",
    "*   双引号里可以出现转义字符\n",
    "\n",
    "### 字符串操作\n",
    "\n",
    "#### 拼接字符串"
   ]
  },
  {
   "cell_type": "markdown",
   "metadata": {},
   "source": [
    "拼接字符串什么都不加，直接连起来写就可以了"
   ]
  },
  {
   "cell_type": "code",
   "execution_count": 30,
   "metadata": {},
   "outputs": [
    {
     "data": {
      "text/plain": [
       "['jack 20岁', 'jack20岁']"
      ]
     },
     "execution_count": 30,
     "metadata": {},
     "output_type": "execute_result"
    }
   ],
   "source": [
    "%%!\n",
    "\n",
    "my_name=\"jack\"\n",
    "my_age=\"20岁\"\n",
    "echo $my_name $my_age\n",
    "echo $my_name$my_age"
   ]
  },
  {
   "cell_type": "code",
   "execution_count": null,
   "metadata": {},
   "outputs": [],
   "source": []
  },
  {
   "cell_type": "markdown",
   "metadata": {},
   "source": [
    "#### 获取字符串长度"
   ]
  },
  {
   "cell_type": "code",
   "execution_count": 31,
   "metadata": {},
   "outputs": [
    {
     "data": {
      "text/plain": [
       "['4']"
      ]
     },
     "execution_count": 31,
     "metadata": {},
     "output_type": "execute_result"
    }
   ],
   "source": [
    "%%!\n",
    "\n",
    "my_name=\"jack\"\n",
    "echo ${#my_name}"
   ]
  },
  {
   "cell_type": "markdown",
   "metadata": {},
   "source": [
    "#### 截取字符串"
   ]
  },
  {
   "cell_type": "code",
   "execution_count": null,
   "metadata": {},
   "outputs": [],
   "source": []
  },
  {
   "cell_type": "code",
   "execution_count": 33,
   "metadata": {},
   "outputs": [
    {
     "data": {
      "text/plain": [
       "['ja']"
      ]
     },
     "execution_count": 33,
     "metadata": {},
     "output_type": "execute_result"
    }
   ],
   "source": [
    "%%!\n",
    "\n",
    "my_name=\"jack\"\n",
    "echo ${my_name:0:2} # 注意下表是从零开始并且左闭右开"
   ]
  },
  {
   "cell_type": "markdown",
   "metadata": {},
   "source": [
    "去掉最后一个字符"
   ]
  },
  {
   "cell_type": "code",
   "execution_count": 35,
   "metadata": {},
   "outputs": [
    {
     "data": {
      "text/plain": [
       "['jack']"
      ]
     },
     "execution_count": 35,
     "metadata": {},
     "output_type": "execute_result"
    }
   ],
   "source": [
    "%%!\n",
    "\n",
    "my_name=\"jack,\"\n",
    "echo ${my_name:0:${#my_name}-1}"
   ]
  },
  {
   "cell_type": "markdown",
   "metadata": {},
   "source": [
    "### Shell 数组\n",
    "\n",
    "#### 定义数组\n",
    "\n",
    "在Shell中，用括号来表示数组，数组元素用\"空格\"符号分割开。定义数组的一般形式为："
   ]
  },
  {
   "cell_type": "code",
   "execution_count": 40,
   "metadata": {},
   "outputs": [
    {
     "data": {
      "text/plain": [
       "['name1']"
      ]
     },
     "execution_count": 40,
     "metadata": {},
     "output_type": "execute_result"
    }
   ],
   "source": [
    "%%!\n",
    "\n",
    "name=(name1 name2 name3)\n",
    "echo $name"
   ]
  },
  {
   "cell_type": "code",
   "execution_count": null,
   "metadata": {},
   "outputs": [],
   "source": [
    "还可以单独定义数组的各个分量："
   ]
  },
  {
   "cell_type": "code",
   "execution_count": 41,
   "metadata": {},
   "outputs": [
    {
     "data": {
      "text/plain": [
       "['name1']"
      ]
     },
     "execution_count": 41,
     "metadata": {},
     "output_type": "execute_result"
    }
   ],
   "source": [
    "%%!\n",
    "\n",
    "ary[0]=name1\n",
    "ary[1]=name2\n",
    "ary[3]=name3\n",
    "echo $ary"
   ]
  },
  {
   "cell_type": "markdown",
   "metadata": {},
   "source": [
    "ps: 可以不使用连续的下标，而且下标的范围没有限制"
   ]
  },
  {
   "cell_type": "markdown",
   "metadata": {},
   "source": [
    "#### 读取数组\n",
    "\n",
    "读取数组元素值的一般格式是："
   ]
  },
  {
   "cell_type": "code",
   "execution_count": 42,
   "metadata": {},
   "outputs": [
    {
     "data": {
      "text/plain": [
       "['name1']"
      ]
     },
     "execution_count": 42,
     "metadata": {},
     "output_type": "execute_result"
    }
   ],
   "source": [
    "%%!\n",
    "\n",
    "name=(name1 name2 name3)\n",
    "echo ${name[0]}"
   ]
  },
  {
   "cell_type": "markdown",
   "metadata": {},
   "source": [
    "使用 `@` 或 `*` 符号可以获取数组中的所有元素，例如："
   ]
  },
  {
   "cell_type": "code",
   "execution_count": 51,
   "metadata": {},
   "outputs": [
    {
     "data": {
      "text/plain": [
       "['name1 name2 name3', 'name1 name2 name3']"
      ]
     },
     "execution_count": 51,
     "metadata": {},
     "output_type": "execute_result"
    }
   ],
   "source": [
    "%%!\n",
    "\n",
    "name=(name1 name2 name3)\n",
    "echo ${name[@]}\n",
    "echo ${name[*]}"
   ]
  },
  {
   "cell_type": "markdown",
   "metadata": {},
   "source": [
    "#### 获取数组的长度"
   ]
  },
  {
   "cell_type": "markdown",
   "metadata": {},
   "source": [
    "获取数组长度的方法与获取字符串长度的方法相同，例如："
   ]
  },
  {
   "cell_type": "code",
   "execution_count": 52,
   "metadata": {},
   "outputs": [
    {
     "data": {
      "text/plain": [
       "['length1=3', 'length2=3']"
      ]
     },
     "execution_count": 52,
     "metadata": {},
     "output_type": "execute_result"
    }
   ],
   "source": [
    "%%!\n",
    "\n",
    "name=(name1 name2 name3)\n",
    "length1=${#name[@]}\n",
    "length2=${#name[*]}\n",
    "echo \"length1=$length1\"\n",
    "echo \"length2=$length2\""
   ]
  },
  {
   "cell_type": "markdown",
   "metadata": {},
   "source": [
    "### Shell 流程控制\n",
    "\n",
    "不能这么写，如果else分支没有语句执行，就不要写这个else\n",
    "\n",
    "#### if"
   ]
  },
  {
   "cell_type": "code",
   "execution_count": 53,
   "metadata": {},
   "outputs": [
    {
     "data": {
      "text/plain": [
       "['/bin/bash: line 1: condition1: command not found',\n",
       " '/bin/bash: line 4: condition2: command not found',\n",
       " '/bin/bash: line 8: commandN: command not found']"
      ]
     },
     "execution_count": 53,
     "metadata": {},
     "output_type": "execute_result"
    }
   ],
   "source": [
    "%%!\n",
    "\n",
    "if condition1\n",
    "then\n",
    "    command1\n",
    "elif condition2\n",
    "then\n",
    "    command2\n",
    "else\n",
    "    commandN\n",
    "fi"
   ]
  },
  {
   "cell_type": "code",
   "execution_count": 54,
   "metadata": {},
   "outputs": [
    {
     "data": {
      "text/plain": [
       "['a 小于 b']"
      ]
     },
     "execution_count": 54,
     "metadata": {},
     "output_type": "execute_result"
    }
   ],
   "source": [
    "%%!\n",
    "\n",
    "#!/usr/bin/env bash\n",
    "\n",
    "a=1\n",
    "b=2\n",
    "if [ $a == $b ]\n",
    "    then\n",
    "        echo \"a 等于 b\"\n",
    " elif [ $a -gt $b ]\n",
    "    then\n",
    "        echo \"a 大于 b\"\n",
    " elif [ $a -lt $b ]\n",
    "    then\n",
    "        echo \"a 小于 b\"\n",
    " else\n",
    "    echo \"没有符合的条件\"\n",
    "\n",
    " fi"
   ]
  },
  {
   "cell_type": "markdown",
   "metadata": {},
   "source": [
    "#### for 循环\n",
    "\n",
    "Shell的for循环和Python 有点类似\n",
    "\n",
    "##### Shell的for循环，第一种写法"
   ]
  },
  {
   "cell_type": "code",
   "execution_count": 57,
   "metadata": {},
   "outputs": [
    {
     "data": {
      "text/plain": [
       "['index=1', 'index=2', 'index=3', 'index=4', 'index=5']"
      ]
     },
     "execution_count": 57,
     "metadata": {},
     "output_type": "execute_result"
    }
   ],
   "source": [
    "%%!\n",
    "\n",
    "for index in 1 2 3 4 5; do\n",
    "    echo \"index=\"$index\n",
    "done"
   ]
  },
  {
   "cell_type": "markdown",
   "metadata": {},
   "source": [
    "使用数组的场景"
   ]
  },
  {
   "cell_type": "code",
   "execution_count": 60,
   "metadata": {},
   "outputs": [
    {
     "data": {
      "text/plain": [
       "['index=1', 'index=2', 'index=3', 'index=4', 'index=5']"
      ]
     },
     "execution_count": 60,
     "metadata": {},
     "output_type": "execute_result"
    }
   ],
   "source": [
    "%%!\n",
    "\n",
    "nums=(1 2 3 4 5)\n",
    "for index in ${nums[*]}; do\n",
    "    echo \"index=\"$index\n",
    "done"
   ]
  },
  {
   "cell_type": "markdown",
   "metadata": {},
   "source": [
    "##### Shell的for循环，第二种写法"
   ]
  },
  {
   "cell_type": "code",
   "execution_count": 70,
   "metadata": {},
   "outputs": [
    {
     "data": {
      "text/plain": [
       "['i=0', 'i=1', 'i=2', 'i=3', 'i=4']"
      ]
     },
     "execution_count": 70,
     "metadata": {},
     "output_type": "execute_result"
    }
   ],
   "source": [
    "%%!\n",
    "\n",
    "for ((i=0; i<5; i++)); do\n",
    "    echo \"i=\"$i\n",
    "done"
   ]
  },
  {
   "cell_type": "markdown",
   "metadata": {},
   "source": [
    "#### while 语句\n",
    "\n",
    "while循环用于不断执行一系列命令，也用于从输入文件中读取数据；命令通常为测试条件。"
   ]
  },
  {
   "cell_type": "code",
   "execution_count": 71,
   "metadata": {},
   "outputs": [
    {
     "data": {
      "text/plain": [
       "[\"/bin/bash: -c: line 0: unexpected EOF while looking for matching `)'\",\n",
       " '/bin/bash: -c: line 3: syntax error: unexpected end of file']"
      ]
     },
     "execution_count": 71,
     "metadata": {},
     "output_type": "execute_result"
    }
   ],
   "source": [
    "%%!\n",
    "\n",
    "int=1\n",
    "while(( $int<=5 ))\n",
    "do\n",
    "    echo $int\n",
    "    let \"int++\"\n",
    "done"
   ]
  },
  {
   "cell_type": "code",
   "execution_count": 71,
   "metadata": {},
   "outputs": [
    {
     "data": {
      "text/plain": [
       "[\"/bin/bash: -c: line 0: unexpected EOF while looking for matching `)'\",\n",
       " '/bin/bash: -c: line 3: syntax error: unexpected end of file']"
      ]
     },
     "execution_count": 71,
     "metadata": {},
     "output_type": "execute_result"
    }
   ],
   "source": [
    "%%!\n",
    "\n",
    "int=1\n",
    "while(( $int<=5 ))\n",
    "do\n",
    "    echo $int\n",
    "    let \"int++\"\n",
    "done"
   ]
  },
  {
   "cell_type": "code",
   "execution_count": null,
   "metadata": {},
   "outputs": [],
   "source": [
    "### Shell结合系统命令\n",
    "\n",
    "sh脚本结合系统命令便有了强大的威力，在字符处理领域，有grep、awk、sed三剑客，grep负责找出特定的行，awk能将行拆分成多个字段，sed则可以实现更新插入删除等写操作。\n",
    "\n",
    "#### 例如定时检测nginx、mysql是否被关闭\n",
    "\n",
    "```\n",
    "path=/var/log\n",
    "log=${path}/httpd-mysql.log\n",
    "\n",
    "name=(apache mysql)\n",
    "\n",
    "exs_init[0]=\"service httpd start\"\n",
    "exs_init[1]=\"/etc/init.d/mysqld restart\"\n",
    "\n",
    "for ((i=0; i<2; i++)); do\n",
    "    echo \"检查${name[i]}进程是否存在\"\n",
    "    ps -ef|grep ${name[i]} |grep -v grep\n",
    "    if [ $? -eq 0 ]; then\n",
    "        pid=$(pgrep -f ${name[i]})\n",
    "        echo \"`date +\"%Y-%m-%d %H:%M:%S\"` ${name[$i]} is running with pid $pid\" >> ${log}\n",
    "     else\n",
    "        $(${exs_init[i]})\n",
    "        echo \"`date +\"%Y-%m-%d %H:%M:%S\"` ${name[$i]} start success\" >> ${log}\n",
    "    fi\n",
    "done\n",
    "复制代码\n",
    "```\n",
    "\n",
    "解释：检测 nginx、mysql进程是否存在，如果不存在了会自动重新启动。 脚本每次运行会写日志的，没事可以去看看该日志文件，如果进程是不是真的经常性不存在，恐怕就要排查一下深层原因了。\n",
    "\n",
    "源码：[check\\_nginx.sh](https://github.com/dpm100/fast_guides/blob/master/fast-shell/check_apache_mysql.sh)\n",
    "\n",
    "#### 编辑 /etc/crontab 文件\n",
    "\n",
    "```\n",
    "crontab -e\n",
    "复制代码\n",
    "```\n",
    "\n",
    "在文件最后添加一行：\n",
    "\n",
    "```\n",
    "*/5 * * * * /xxx/check_nginx.sh > /dev/null 2>&1\n",
    "复制代码\n",
    "```\n",
    "\n",
    "上表示每 5 分钟，执行一下脚本 /xxx/check\\_nginx.sh，其中xxx代表路径\n",
    "\n",
    "/dev/null 2>&1 的意思是该条shell命令将不会输出任何信息到控制台，也不会有任何信息输出到文件中。\n",
    "\n",
    "```\n",
    "# For details see man 4 crontabs\n",
    "\n",
    "# Example of job definition:\n",
    "# .---------------- minute (0 - 59)\n",
    "# |  .------------- hour (0 - 23)\n",
    "# |  |  .---------- day of month (1 - 31)\n",
    "# |  |  |  .------- month (1 - 12) OR jan,feb,mar,apr ...\n",
    "# |  |  |  |  .---- day of week (0 - 6) (Sunday=0 or 7) OR sun,mon,tue,wed,thu,fri,sat\n",
    "# |  |  |  |  |\n",
    "# *  *  *  *  * command to be executed\n",
    "复制代码\n",
    "```\n",
    "\n",
    "### 添加完配置，需要重启才能生效\n",
    "\n",
    "```\n",
    "service crond restart\n",
    "```"
   ]
  },
  {
   "cell_type": "markdown",
   "metadata": {},
   "source": [
    "# References\n",
    "[Jupyter魔法操作符 | Notebook Share](https://supergis.gitbooks.io/git_notebook/content/doc/jupyter_magics.html)\n",
    "\n",
    "[Shell script: 如果变量没定义 - 简书](https://www.jianshu.com/p/3c375b5a6b5b)"
   ]
  },
  {
   "cell_type": "code",
   "execution_count": null,
   "metadata": {},
   "outputs": [],
   "source": []
  },
  {
   "cell_type": "code",
   "execution_count": null,
   "metadata": {},
   "outputs": [],
   "source": [
    "[Shell script: 如果变量没定义 - 简书](https://www.jianshu.com/p/3c375b5a6b5b)"
   ]
  }
 ],
 "metadata": {
  "kernelspec": {
   "display_name": "Python 3",
   "language": "python",
   "name": "python3"
  },
  "language_info": {
   "codemirror_mode": {
    "name": "ipython",
    "version": 3
   },
   "file_extension": ".py",
   "mimetype": "text/x-python",
   "name": "python",
   "nbconvert_exporter": "python",
   "pygments_lexer": "ipython3",
   "version": "3.8.5"
  },
  "toc": {
   "base_numbering": 1,
   "nav_menu": {},
   "number_sections": true,
   "sideBar": true,
   "skip_h1_title": false,
   "title_cell": "Table of Contents",
   "title_sidebar": "Contents",
   "toc_cell": false,
   "toc_position": {
    "height": "calc(100% - 180px)",
    "left": "10px",
    "top": "150px",
    "width": "288px"
   },
   "toc_section_display": true,
   "toc_window_display": true
  }
 },
 "nbformat": 4,
 "nbformat_minor": 4
}
