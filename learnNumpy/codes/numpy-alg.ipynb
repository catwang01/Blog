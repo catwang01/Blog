{
 "cells": [
  {
   "cell_type": "markdown",
   "metadata": {},
   "source": [
    "[toc]\n",
    "\n",
    "# Numpy linalg\n",
    "\n",
    "## linalg\n",
    "\n",
    "### np.linalg.det\n",
    "\n",
    "```\n",
    "X = np.arange(4).reshape(2,2)\n",
    "np.linalg.det(X)\n",
    "```"
   ]
  },
  {
   "cell_type": "markdown",
   "metadata": {},
   "source": [
    "### np.linalg.norm"
   ]
  },
  {
   "cell_type": "code",
   "execution_count": 3,
   "metadata": {
    "ExecuteTime": {
     "end_time": "2020-06-11T09:47:35.286764Z",
     "start_time": "2020-06-11T09:47:35.280746Z"
    }
   },
   "outputs": [
    {
     "data": {
      "text/plain": [
       "10.0"
      ]
     },
     "execution_count": 3,
     "metadata": {},
     "output_type": "execute_result"
    }
   ],
   "source": [
    "import numpy as np\n",
    "x = np.arange(5)\n",
    "\n",
    "np.linalg.norm(x, ord=1) # 1-norm"
   ]
  },
  {
   "cell_type": "markdown",
   "metadata": {
    "ExecuteTime": {
     "end_time": "2020-06-11T09:48:11.595479Z",
     "start_time": "2020-06-11T09:48:11.590705Z"
    }
   },
   "source": [
    "对于矩阵来说，可以计算每行/每列的 norm"
   ]
  },
  {
   "cell_type": "code",
   "execution_count": 9,
   "metadata": {
    "ExecuteTime": {
     "end_time": "2020-06-11T09:49:15.052217Z",
     "start_time": "2020-06-11T09:49:15.048610Z"
    }
   },
   "outputs": [],
   "source": [
    "A = np.ones((3, 4))"
   ]
  },
  {
   "cell_type": "code",
   "execution_count": 23,
   "metadata": {
    "ExecuteTime": {
     "end_time": "2020-06-11T09:54:17.321010Z",
     "start_time": "2020-06-11T09:54:17.314890Z"
    }
   },
   "outputs": [
    {
     "data": {
      "text/plain": [
       "3.4641016151377548"
      ]
     },
     "execution_count": 23,
     "metadata": {},
     "output_type": "execute_result"
    }
   ],
   "source": [
    "np.linalg.norm(A, ord=2) # 对所有元素计算"
   ]
  },
  {
   "cell_type": "code",
   "execution_count": 24,
   "metadata": {
    "ExecuteTime": {
     "end_time": "2020-06-11T09:55:40.587067Z",
     "start_time": "2020-06-11T09:55:40.580820Z"
    }
   },
   "outputs": [
    {
     "data": {
      "text/plain": [
       "array([ 2.,  2.,  2.])"
      ]
     },
     "execution_count": 24,
     "metadata": {},
     "output_type": "execute_result"
    }
   ],
   "source": [
    "np.linalg.norm(A, ord=2, axis=1) # 按行计算 norm"
   ]
  },
  {
   "cell_type": "code",
   "execution_count": 18,
   "metadata": {
    "ExecuteTime": {
     "end_time": "2020-06-11T09:51:34.810698Z",
     "start_time": "2020-06-11T09:51:34.804467Z"
    }
   },
   "outputs": [
    {
     "data": {
      "text/plain": [
       "[2.0, 2.0, 2.0]"
      ]
     },
     "execution_count": 18,
     "metadata": {},
     "output_type": "execute_result"
    }
   ],
   "source": [
    "# 相当于\n",
    "[np.linalg.norm(row, ord=2) for row in A]"
   ]
  },
  {
   "cell_type": "code",
   "execution_count": 19,
   "metadata": {
    "ExecuteTime": {
     "end_time": "2020-06-11T09:51:40.409215Z",
     "start_time": "2020-06-11T09:51:40.401964Z"
    }
   },
   "outputs": [
    {
     "data": {
      "text/plain": [
       "array([ 1.73205081,  1.73205081,  1.73205081,  1.73205081])"
      ]
     },
     "execution_count": 19,
     "metadata": {},
     "output_type": "execute_result"
    }
   ],
   "source": [
    "np.linalg.norm(A, ord=2, axis=0) # 按列计算 norm"
   ]
  },
  {
   "cell_type": "markdown",
   "metadata": {},
   "source": [
    "### np.linalg.inv\n",
    "\n",
    "```\n",
    "x = np.array([[1,2],[3,4]])\n",
    "np.linalg.inv(x)\n",
    "```"
   ]
  },
  {
   "cell_type": "markdown",
   "metadata": {},
   "source": [
    "## 矩阵操作"
   ]
  },
  {
   "cell_type": "markdown",
   "metadata": {},
   "source": [
    "### np.matmul 矩阵乘法"
   ]
  },
  {
   "cell_type": "markdown",
   "metadata": {},
   "source": [
    "```python\n",
    "import numpy as np\n",
    "\n",
    "X = np.random.normal(size=(3,2))\n",
    "y = np.random.normal(size=(2,4))\n",
    "\n",
    "np.matmul(X, y) # 直接计算 X * y 会报错\n",
    "```\n",
    "\n",
    "    array([[ 1.73673717, -2.84289069, -0.64824864,  3.80927957],\n",
    "           [-1.13449018,  2.62934941, -0.28690457, -3.23659914],\n",
    "           [-0.15219046,  0.45402799, -0.13166891, -0.5323383 ]])\n",
    "\n",
    "\n",
    "X * y 的写法会进行广播操作\n",
    "\n",
    "\n",
    "```python\n",
    "x = np.random.normal(size=(3, 1))\n",
    "y = np.random.normal(size=(1, 3))\n",
    "\n",
    "x * y == np.matmul(x, y)\n",
    "```\n",
    "\n",
    "    array([[ True,  True,  True],\n",
    "           [ True,  True,  True],\n",
    "           [ True,  True,  True]])\n",
    "\n",
    "### np.mean\n",
    "\n",
    "- 注意我们一般将一行看成一个instance，此时计算样本均值时必须添加 `axis=0` 参数，否则会默认对整个矩阵求均值\n",
    "\n",
    "```\n",
    "import numpy as np\n",
    "\n",
    "X = np.random.normal(size=[3, 4])\n",
    "\n",
    "np.mean(X, axis=0)\n",
    "```\n",
    "\n",
    "### np.cov\n",
    "\n",
    "\n",
    "- 注意我们一般将一行看成一个instance，此时计算样本方差时必须添加 `rowraw=False` 参数，否则会默认将列看成一个 instance 来计算方差\n",
    "\n",
    "```\n",
    "import numpy as np\n",
    "\n",
    "X = np.random.normal(size=[3, 4])\n",
    "\n",
    "np.cov(X, rowraw=False)\n",
    "```\n",
    "\n",
    "\n",
    "# References\n",
    "1. [numpy.linalg.inv — NumPy v1.17 Manual](https://docs.scipy.org/doc/numpy/reference/generated/numpy.linalg.inv.html)"
   ]
  }
 ],
 "metadata": {
  "kernelspec": {
   "display_name": "Python 3.5.5 64-bit ('pytorch': conda)",
   "language": "python",
   "name": "python35564bitpytorchconda72e94a1a4f294f41ae76e825f8204341"
  },
  "language_info": {
   "codemirror_mode": {
    "name": "ipython",
    "version": 3
   },
   "file_extension": ".py",
   "mimetype": "text/x-python",
   "name": "python",
   "nbconvert_exporter": "python",
   "pygments_lexer": "ipython3",
   "version": "3.5.5"
  },
  "toc": {
   "base_numbering": 1,
   "nav_menu": {},
   "number_sections": false,
   "sideBar": true,
   "skip_h1_title": false,
   "title_cell": "Table of Contents",
   "title_sidebar": "Contents",
   "toc_cell": false,
   "toc_position": {},
   "toc_section_display": true,
   "toc_window_display": true
  }
 },
 "nbformat": 4,
 "nbformat_minor": 2
}
