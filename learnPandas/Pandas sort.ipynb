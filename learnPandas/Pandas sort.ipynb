{
 "cells": [
  {
   "cell_type": "markdown",
   "metadata": {},
   "source": [
    "---\n",
    "title: Pandas sort\n",
    "tags: 小书匠,pandas,sort,dataframe,series,rank,sort_values\n",
    "grammar_cjkRuby: true\n",
    "renderNumberedHeading: true\n",
    "---\n",
    "\n",
    "[toc!]\n",
    "\n",
    "\n",
    "# Pandas Sort"
   ]
  },
  {
   "cell_type": "markdown",
   "metadata": {
    "ExecuteTime": {
     "end_time": "2021-03-15T09:01:19.475532Z",
     "start_time": "2021-03-15T09:01:19.473130Z"
    }
   },
   "source": [
    "## Series 排序"
   ]
  },
  {
   "cell_type": "code",
   "execution_count": 2,
   "metadata": {
    "ExecuteTime": {
     "end_time": "2021-03-15T09:02:05.989246Z",
     "start_time": "2021-03-15T09:02:05.984948Z"
    }
   },
   "outputs": [],
   "source": [
    "import pandas as pd\n",
    "\n",
    "s = pd.Series([10,12,9,9,14,4,2,4,9,1])"
   ]
  },
  {
   "cell_type": "code",
   "execution_count": 3,
   "metadata": {
    "ExecuteTime": {
     "end_time": "2021-03-15T09:02:07.244998Z",
     "start_time": "2021-03-15T09:02:07.237114Z"
    },
    "scrolled": true
   },
   "outputs": [
    {
     "data": {
      "text/plain": [
       "0     8.0\n",
       "1     9.0\n",
       "2     6.0\n",
       "3     6.0\n",
       "4    10.0\n",
       "5     3.5\n",
       "6     2.0\n",
       "7     3.5\n",
       "8     6.0\n",
       "9     1.0\n",
       "dtype: float64"
      ]
     },
     "execution_count": 3,
     "metadata": {},
     "output_type": "execute_result"
    }
   ],
   "source": [
    "s.rank() # 求 rank"
   ]
  },
  {
   "cell_type": "code",
   "execution_count": 4,
   "metadata": {
    "ExecuteTime": {
     "end_time": "2021-03-15T09:02:09.793582Z",
     "start_time": "2021-03-15T09:02:09.785612Z"
    }
   },
   "outputs": [
    {
     "data": {
      "text/plain": [
       "0     3.0\n",
       "1     2.0\n",
       "2     5.0\n",
       "3     5.0\n",
       "4     1.0\n",
       "5     7.5\n",
       "6     9.0\n",
       "7     7.5\n",
       "8     5.0\n",
       "9    10.0\n",
       "dtype: float64"
      ]
     },
     "execution_count": 4,
     "metadata": {},
     "output_type": "execute_result"
    }
   ],
   "source": [
    "s.rank(ascending=False) # 指定值越大的rank小"
   ]
  },
  {
   "cell_type": "markdown",
   "metadata": {},
   "source": [
    "## Dataframe 排序"
   ]
  },
  {
   "cell_type": "code",
   "execution_count": 5,
   "metadata": {
    "ExecuteTime": {
     "end_time": "2021-03-15T09:00:54.572146Z",
     "start_time": "2021-03-15T09:00:54.010730Z"
    }
   },
   "outputs": [
    {
     "data": {
      "text/html": [
       "<div>\n",
       "<style scoped>\n",
       "    .dataframe tbody tr th:only-of-type {\n",
       "        vertical-align: middle;\n",
       "    }\n",
       "\n",
       "    .dataframe tbody tr th {\n",
       "        vertical-align: top;\n",
       "    }\n",
       "\n",
       "    .dataframe thead th {\n",
       "        text-align: right;\n",
       "    }\n",
       "</style>\n",
       "<table border=\"1\" class=\"dataframe\">\n",
       "  <thead>\n",
       "    <tr style=\"text-align: right;\">\n",
       "      <th></th>\n",
       "      <th>Score</th>\n",
       "      <th>Subject</th>\n",
       "      <th>Name</th>\n",
       "    </tr>\n",
       "  </thead>\n",
       "  <tbody>\n",
       "    <tr>\n",
       "      <th>No2</th>\n",
       "      <td>98</td>\n",
       "      <td>Literature</td>\n",
       "      <td>Zhang San</td>\n",
       "    </tr>\n",
       "    <tr>\n",
       "      <th>No3</th>\n",
       "      <td>76</td>\n",
       "      <td>History</td>\n",
       "      <td>Li Si</td>\n",
       "    </tr>\n",
       "    <tr>\n",
       "      <th>No1</th>\n",
       "      <td>84</td>\n",
       "      <td>Enlish</td>\n",
       "      <td>Wang Laowu</td>\n",
       "    </tr>\n",
       "    <tr>\n",
       "      <th>No6</th>\n",
       "      <td>70</td>\n",
       "      <td>Maths</td>\n",
       "      <td>Zhao Liu</td>\n",
       "    </tr>\n",
       "    <tr>\n",
       "      <th>No5</th>\n",
       "      <td>93</td>\n",
       "      <td>Physics</td>\n",
       "      <td>Qian Qi</td>\n",
       "    </tr>\n",
       "    <tr>\n",
       "      <th>No4</th>\n",
       "      <td>83</td>\n",
       "      <td>Chemics</td>\n",
       "      <td>Sun Ba</td>\n",
       "    </tr>\n",
       "  </tbody>\n",
       "</table>\n",
       "</div>"
      ],
      "text/plain": [
       "     Score     Subject        Name\n",
       "No2     98  Literature   Zhang San\n",
       "No3     76     History       Li Si\n",
       "No1     84      Enlish  Wang Laowu\n",
       "No6     70       Maths    Zhao Liu\n",
       "No5     93     Physics     Qian Qi\n",
       "No4     83     Chemics      Sun Ba"
      ]
     },
     "execution_count": 5,
     "metadata": {},
     "output_type": "execute_result"
    }
   ],
   "source": [
    "import pandas as pd\n",
    "\n",
    "df = {\n",
    "    'Score':[98,76,84,70,93,83],\n",
    "    'Subject':['Literature','History','Enlish','Maths','Physics','Chemics'],\n",
    "     'Name':['Zhang San','Li Si','Wang Laowu','Zhao Liu','Qian Qi','Sun Ba'],\n",
    "}\n",
    "scoresheet = pd.DataFrame(df, index=['No2', 'No3', 'No1', 'No6', 'No5', 'No4'])\n",
    "scoresheet"
   ]
  },
  {
   "cell_type": "code",
   "execution_count": 6,
   "metadata": {
    "ExecuteTime": {
     "end_time": "2021-03-15T09:00:58.876961Z",
     "start_time": "2021-03-15T09:00:58.864274Z"
    }
   },
   "outputs": [
    {
     "data": {
      "text/html": [
       "<div>\n",
       "<style scoped>\n",
       "    .dataframe tbody tr th:only-of-type {\n",
       "        vertical-align: middle;\n",
       "    }\n",
       "\n",
       "    .dataframe tbody tr th {\n",
       "        vertical-align: top;\n",
       "    }\n",
       "\n",
       "    .dataframe thead th {\n",
       "        text-align: right;\n",
       "    }\n",
       "</style>\n",
       "<table border=\"1\" class=\"dataframe\">\n",
       "  <thead>\n",
       "    <tr style=\"text-align: right;\">\n",
       "      <th></th>\n",
       "      <th>Score</th>\n",
       "      <th>Subject</th>\n",
       "      <th>Name</th>\n",
       "    </tr>\n",
       "  </thead>\n",
       "  <tbody>\n",
       "    <tr>\n",
       "      <th>No1</th>\n",
       "      <td>84</td>\n",
       "      <td>Enlish</td>\n",
       "      <td>Wang Laowu</td>\n",
       "    </tr>\n",
       "    <tr>\n",
       "      <th>No2</th>\n",
       "      <td>98</td>\n",
       "      <td>Literature</td>\n",
       "      <td>Zhang San</td>\n",
       "    </tr>\n",
       "    <tr>\n",
       "      <th>No3</th>\n",
       "      <td>76</td>\n",
       "      <td>History</td>\n",
       "      <td>Li Si</td>\n",
       "    </tr>\n",
       "    <tr>\n",
       "      <th>No4</th>\n",
       "      <td>83</td>\n",
       "      <td>Chemics</td>\n",
       "      <td>Sun Ba</td>\n",
       "    </tr>\n",
       "    <tr>\n",
       "      <th>No5</th>\n",
       "      <td>93</td>\n",
       "      <td>Physics</td>\n",
       "      <td>Qian Qi</td>\n",
       "    </tr>\n",
       "    <tr>\n",
       "      <th>No6</th>\n",
       "      <td>70</td>\n",
       "      <td>Maths</td>\n",
       "      <td>Zhao Liu</td>\n",
       "    </tr>\n",
       "  </tbody>\n",
       "</table>\n",
       "</div>"
      ],
      "text/plain": [
       "     Score     Subject        Name\n",
       "No1     84      Enlish  Wang Laowu\n",
       "No2     98  Literature   Zhang San\n",
       "No3     76     History       Li Si\n",
       "No4     83     Chemics      Sun Ba\n",
       "No5     93     Physics     Qian Qi\n",
       "No6     70       Maths    Zhao Liu"
      ]
     },
     "execution_count": 6,
     "metadata": {},
     "output_type": "execute_result"
    }
   ],
   "source": [
    "scoresheet.sort_index() # 对行 index 排序"
   ]
  },
  {
   "cell_type": "code",
   "execution_count": 7,
   "metadata": {
    "ExecuteTime": {
     "end_time": "2021-03-15T09:01:06.138510Z",
     "start_time": "2021-03-15T09:01:06.130705Z"
    }
   },
   "outputs": [
    {
     "data": {
      "text/html": [
       "<div>\n",
       "<style scoped>\n",
       "    .dataframe tbody tr th:only-of-type {\n",
       "        vertical-align: middle;\n",
       "    }\n",
       "\n",
       "    .dataframe tbody tr th {\n",
       "        vertical-align: top;\n",
       "    }\n",
       "\n",
       "    .dataframe thead th {\n",
       "        text-align: right;\n",
       "    }\n",
       "</style>\n",
       "<table border=\"1\" class=\"dataframe\">\n",
       "  <thead>\n",
       "    <tr style=\"text-align: right;\">\n",
       "      <th></th>\n",
       "      <th>Subject</th>\n",
       "      <th>Score</th>\n",
       "      <th>Name</th>\n",
       "    </tr>\n",
       "  </thead>\n",
       "  <tbody>\n",
       "    <tr>\n",
       "      <th>No2</th>\n",
       "      <td>Literature</td>\n",
       "      <td>98</td>\n",
       "      <td>Zhang San</td>\n",
       "    </tr>\n",
       "    <tr>\n",
       "      <th>No3</th>\n",
       "      <td>History</td>\n",
       "      <td>76</td>\n",
       "      <td>Li Si</td>\n",
       "    </tr>\n",
       "    <tr>\n",
       "      <th>No1</th>\n",
       "      <td>Enlish</td>\n",
       "      <td>84</td>\n",
       "      <td>Wang Laowu</td>\n",
       "    </tr>\n",
       "    <tr>\n",
       "      <th>No6</th>\n",
       "      <td>Maths</td>\n",
       "      <td>70</td>\n",
       "      <td>Zhao Liu</td>\n",
       "    </tr>\n",
       "    <tr>\n",
       "      <th>No5</th>\n",
       "      <td>Physics</td>\n",
       "      <td>93</td>\n",
       "      <td>Qian Qi</td>\n",
       "    </tr>\n",
       "    <tr>\n",
       "      <th>No4</th>\n",
       "      <td>Chemics</td>\n",
       "      <td>83</td>\n",
       "      <td>Sun Ba</td>\n",
       "    </tr>\n",
       "  </tbody>\n",
       "</table>\n",
       "</div>"
      ],
      "text/plain": [
       "        Subject  Score        Name\n",
       "No2  Literature     98   Zhang San\n",
       "No3     History     76       Li Si\n",
       "No1      Enlish     84  Wang Laowu\n",
       "No6       Maths     70    Zhao Liu\n",
       "No5     Physics     93     Qian Qi\n",
       "No4     Chemics     83      Sun Ba"
      ]
     },
     "execution_count": 7,
     "metadata": {},
     "output_type": "execute_result"
    }
   ],
   "source": [
    "scoresheet.sort_index(axis=1, ascending=False) # 对列 index 排序，即对 columns 排序"
   ]
  },
  {
   "cell_type": "markdown",
   "metadata": {},
   "source": [
    "对 index 的情况不多，更多的是需要对 values 进行排序"
   ]
  },
  {
   "cell_type": "code",
   "execution_count": 8,
   "metadata": {
    "ExecuteTime": {
     "end_time": "2021-03-15T09:01:10.875597Z",
     "start_time": "2021-03-15T09:01:10.864834Z"
    }
   },
   "outputs": [
    {
     "data": {
      "text/html": [
       "<div>\n",
       "<style scoped>\n",
       "    .dataframe tbody tr th:only-of-type {\n",
       "        vertical-align: middle;\n",
       "    }\n",
       "\n",
       "    .dataframe tbody tr th {\n",
       "        vertical-align: top;\n",
       "    }\n",
       "\n",
       "    .dataframe thead th {\n",
       "        text-align: right;\n",
       "    }\n",
       "</style>\n",
       "<table border=\"1\" class=\"dataframe\">\n",
       "  <thead>\n",
       "    <tr style=\"text-align: right;\">\n",
       "      <th></th>\n",
       "      <th>Score</th>\n",
       "      <th>Subject</th>\n",
       "      <th>Name</th>\n",
       "    </tr>\n",
       "  </thead>\n",
       "  <tbody>\n",
       "    <tr>\n",
       "      <th>No6</th>\n",
       "      <td>70</td>\n",
       "      <td>Maths</td>\n",
       "      <td>Zhao Liu</td>\n",
       "    </tr>\n",
       "    <tr>\n",
       "      <th>No3</th>\n",
       "      <td>76</td>\n",
       "      <td>History</td>\n",
       "      <td>Li Si</td>\n",
       "    </tr>\n",
       "    <tr>\n",
       "      <th>No4</th>\n",
       "      <td>83</td>\n",
       "      <td>Chemics</td>\n",
       "      <td>Sun Ba</td>\n",
       "    </tr>\n",
       "    <tr>\n",
       "      <th>No1</th>\n",
       "      <td>84</td>\n",
       "      <td>Enlish</td>\n",
       "      <td>Wang Laowu</td>\n",
       "    </tr>\n",
       "    <tr>\n",
       "      <th>No5</th>\n",
       "      <td>93</td>\n",
       "      <td>Physics</td>\n",
       "      <td>Qian Qi</td>\n",
       "    </tr>\n",
       "    <tr>\n",
       "      <th>No2</th>\n",
       "      <td>98</td>\n",
       "      <td>Literature</td>\n",
       "      <td>Zhang San</td>\n",
       "    </tr>\n",
       "  </tbody>\n",
       "</table>\n",
       "</div>"
      ],
      "text/plain": [
       "     Score     Subject        Name\n",
       "No6     70       Maths    Zhao Liu\n",
       "No3     76     History       Li Si\n",
       "No4     83     Chemics      Sun Ba\n",
       "No1     84      Enlish  Wang Laowu\n",
       "No5     93     Physics     Qian Qi\n",
       "No2     98  Literature   Zhang San"
      ]
     },
     "execution_count": 8,
     "metadata": {},
     "output_type": "execute_result"
    }
   ],
   "source": [
    "scoresheet.sort_values(by='Score')"
   ]
  }
 ],
 "metadata": {
  "hide_input": false,
  "kernelspec": {
   "display_name": "Python 3",
   "language": "python",
   "name": "python3"
  },
  "language_info": {
   "codemirror_mode": {
    "name": "ipython",
    "version": 3
   },
   "file_extension": ".py",
   "mimetype": "text/x-python",
   "name": "python",
   "nbconvert_exporter": "python",
   "pygments_lexer": "ipython3",
   "version": "3.7.3"
  },
  "toc": {
   "base_numbering": 1,
   "nav_menu": {},
   "number_sections": true,
   "sideBar": true,
   "skip_h1_title": false,
   "title_cell": "Table of Contents",
   "title_sidebar": "Contents",
   "toc_cell": false,
   "toc_position": {},
   "toc_section_display": true,
   "toc_window_display": false
  },
  "varInspector": {
   "cols": {
    "lenName": 16,
    "lenType": 16,
    "lenVar": 40
   },
   "kernels_config": {
    "python": {
     "delete_cmd_postfix": "",
     "delete_cmd_prefix": "del ",
     "library": "var_list.py",
     "varRefreshCmd": "print(var_dic_list())"
    },
    "r": {
     "delete_cmd_postfix": ") ",
     "delete_cmd_prefix": "rm(",
     "library": "var_list.r",
     "varRefreshCmd": "cat(var_dic_list()) "
    }
   },
   "types_to_exclude": [
    "module",
    "function",
    "builtin_function_or_method",
    "instance",
    "_Feature"
   ],
   "window_display": false
  }
 },
 "nbformat": 4,
 "nbformat_minor": 4
}
